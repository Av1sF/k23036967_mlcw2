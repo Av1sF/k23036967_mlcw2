{
 "cells": [
  {
   "cell_type": "markdown",
   "metadata": {},
   "source": [
    "# Exploring Typiclust \n",
    "\n",
    "To identify areas of potential improvements, potential problems must be analysed. It could be hypothesised that typiclust could be more class balanced when sampling, meaning that diversity could be increased. \n",
    "\n",
    "The objective of this experiment is to analyse how clustering methods, particularly K-Means and K-Means++, represent labeled data in the context of TypiClust clustering. It was observed that with a budget size of 60, TypiClust tended to oversample certain classes, potentially impacting model performance. To better understand this phenomenon, clustering results were visualised using t-SNE to compare how clusters formed relative to true labels. Through this analysis, we aim to assess whether K-Means effectively represents the feature space and explore strategies to improve diversity in sampled data."
   ]
  },
  {
   "cell_type": "code",
   "execution_count": 1,
   "metadata": {},
   "outputs": [],
   "source": [
    "import torchvision \n",
    "import torch \n",
    "import numpy as np \n",
    "\n",
    "from sklearn.cluster import KMeans\n",
    "import pandas as pd \n",
    "\n",
    "from sklearn.manifold import TSNE \n",
    "\n",
    "import plotly.graph_objs as go\n",
    "from plotly.offline import iplot\n"
   ]
  },
  {
   "cell_type": "markdown",
   "metadata": {},
   "source": [
    "## Current Class Diversity \n",
    "\n",
    "As observed, in this instance it oversampled the dog label. In the past, it was also observed that the automobile, dog and horse tend to be over sampled depending on the initial pooling. "
   ]
  },
  {
   "cell_type": "code",
   "execution_count": 2,
   "metadata": {},
   "outputs": [],
   "source": [
    "# Define CIFAR-10 data transforms with augmentations\n",
    "train_transform = torchvision.transforms.Compose([\n",
    "    torchvision.transforms.ToTensor(),\n",
    "    ]) \n",
    "\n",
    "# CIFAR10 training dataset\n",
    "train_ds = torchvision.datasets.CIFAR10(root='./datasets', \n",
    "                                       train=True, \n",
    "                                       download=True, \n",
    "                                       transform=train_transform\n",
    "                                       )\n",
    "\n",
    "# Training dataset loader \n",
    "train_loader = torch.utils.data.DataLoader(\n",
    "            train_ds, batch_size=10, shuffle=False,\n",
    "            num_workers=0, pin_memory=True, drop_last=False)\n"
   ]
  },
  {
   "cell_type": "code",
   "execution_count": 3,
   "metadata": {},
   "outputs": [],
   "source": [
    "budget_60 = np.load(r'datasets\\typiclust_cifar10_budget_60.npy').tolist()"
   ]
  },
  {
   "cell_type": "code",
   "execution_count": 4,
   "metadata": {},
   "outputs": [
    {
     "name": "stdout",
     "output_type": "stream",
     "text": [
      "airplane: 4\n",
      "automobile: 5\n",
      "bird: 6\n",
      "cat: 6\n",
      "deer: 8\n",
      "dog: 9\n",
      "frog: 5\n",
      "horse: 5\n",
      "ship: 6\n",
      "truck: 6\n"
     ]
    }
   ],
   "source": [
    "label_names = ['airplane', 'automobile', 'bird', 'cat', 'deer', \n",
    "            'dog', 'frog', 'horse', 'ship', 'truck']\n",
    "labels = [0] * 10\n",
    "for i in budget_60:\n",
    "    img, label = train_ds[i]\n",
    "    labels[label]+= 1\n",
    "\n",
    "for c,l in enumerate(labels):\n",
    "    print(f\"{label_names[c]}: {l}\")\n",
    "    "
   ]
  },
  {
   "cell_type": "markdown",
   "metadata": {},
   "source": [
    "# Visualising TypiClust Clustering (T-SNE)\n",
    "\n",
    "To understand why oversampling may occur, visualising the clusters can provide insights into how they are formed relative to their true labels. By comparing K-Means clustering results with the actual labels of the training set, we can better assess the alignment between clustering structure and ground truth."
   ]
  },
  {
   "cell_type": "code",
   "execution_count": 5,
   "metadata": {},
   "outputs": [],
   "source": [
    "# Load feature representations generated from pretrained SimCLR \n",
    "feats = np.load(\"./datasets/feats.npy\")"
   ]
  },
  {
   "cell_type": "code",
   "execution_count": 6,
   "metadata": {},
   "outputs": [],
   "source": [
    "# Clustering according to TypiClust  \n",
    "\n",
    "# Labelled set indices \n",
    "l_set_indices = []\n",
    "\n",
    "budget_size = 10\n",
    "MAX_NUM_CLUSTER = 500\n",
    "perplexity = 50 # T-SNE parmas \n",
    "\n",
    "n_clusters = min(len(l_set_indices) + budget_size, \n",
    "                            MAX_NUM_CLUSTER)\n",
    "\n",
    "# K-Means \n",
    "km = KMeans(n_clusters=n_clusters, init=\"k-means++\")\n",
    "km.fit(feats)\n",
    "clusters = km.predict(feats)"
   ]
  },
  {
   "cell_type": "code",
   "execution_count": 7,
   "metadata": {},
   "outputs": [],
   "source": [
    "feats_df = pd.DataFrame(data=feats)\n",
    "\n",
    "# Add cluster label to each point \n",
    "feats_df['clusters'] = clusters\n",
    "\n",
    "# Index of each data point \n",
    "feats_df['idx'] = [i for i in range(len(feats))]"
   ]
  },
  {
   "cell_type": "code",
   "execution_count": 8,
   "metadata": {},
   "outputs": [],
   "source": [
    "# Sample 5000 random data points \n",
    "plotX = pd.DataFrame(np.array(feats_df.sample(5000)))\n",
    "plotX.columns = feats_df.columns"
   ]
  },
  {
   "cell_type": "code",
   "execution_count": 9,
   "metadata": {},
   "outputs": [],
   "source": [
    "# Find the label class of each data point \n",
    "labels = []\n",
    "for index, row in plotX.iterrows():\n",
    "    img, label = train_ds[int(row['idx'])]\n",
    "    labels.append(label)\n",
    "\n",
    "plotX['label'] = labels"
   ]
  },
  {
   "cell_type": "code",
   "execution_count": 10,
   "metadata": {},
   "outputs": [
    {
     "data": {
      "text/html": [
       "<div>\n",
       "<style scoped>\n",
       "    .dataframe tbody tr th:only-of-type {\n",
       "        vertical-align: middle;\n",
       "    }\n",
       "\n",
       "    .dataframe tbody tr th {\n",
       "        vertical-align: top;\n",
       "    }\n",
       "\n",
       "    .dataframe thead th {\n",
       "        text-align: right;\n",
       "    }\n",
       "</style>\n",
       "<table border=\"1\" class=\"dataframe\">\n",
       "  <thead>\n",
       "    <tr style=\"text-align: right;\">\n",
       "      <th></th>\n",
       "      <th>0</th>\n",
       "      <th>1</th>\n",
       "      <th>2</th>\n",
       "      <th>3</th>\n",
       "      <th>4</th>\n",
       "      <th>5</th>\n",
       "      <th>6</th>\n",
       "      <th>7</th>\n",
       "      <th>8</th>\n",
       "      <th>9</th>\n",
       "      <th>...</th>\n",
       "      <th>505</th>\n",
       "      <th>506</th>\n",
       "      <th>507</th>\n",
       "      <th>508</th>\n",
       "      <th>509</th>\n",
       "      <th>510</th>\n",
       "      <th>511</th>\n",
       "      <th>clusters</th>\n",
       "      <th>idx</th>\n",
       "      <th>label</th>\n",
       "    </tr>\n",
       "  </thead>\n",
       "  <tbody>\n",
       "    <tr>\n",
       "      <th>0</th>\n",
       "      <td>0.005079</td>\n",
       "      <td>0.033506</td>\n",
       "      <td>0.004486</td>\n",
       "      <td>0.000000</td>\n",
       "      <td>0.019639</td>\n",
       "      <td>0.012299</td>\n",
       "      <td>0.127739</td>\n",
       "      <td>0.000000</td>\n",
       "      <td>0.104995</td>\n",
       "      <td>0.016156</td>\n",
       "      <td>...</td>\n",
       "      <td>0.000000</td>\n",
       "      <td>0.000000</td>\n",
       "      <td>0.002622</td>\n",
       "      <td>0.020218</td>\n",
       "      <td>0.025496</td>\n",
       "      <td>0.014650</td>\n",
       "      <td>0.015216</td>\n",
       "      <td>3.0</td>\n",
       "      <td>16161.0</td>\n",
       "      <td>8</td>\n",
       "    </tr>\n",
       "    <tr>\n",
       "      <th>1</th>\n",
       "      <td>0.356676</td>\n",
       "      <td>0.000908</td>\n",
       "      <td>0.149722</td>\n",
       "      <td>0.000000</td>\n",
       "      <td>0.027146</td>\n",
       "      <td>0.056867</td>\n",
       "      <td>0.013451</td>\n",
       "      <td>0.000000</td>\n",
       "      <td>0.094401</td>\n",
       "      <td>0.013550</td>\n",
       "      <td>...</td>\n",
       "      <td>0.000000</td>\n",
       "      <td>0.210675</td>\n",
       "      <td>0.030789</td>\n",
       "      <td>0.072562</td>\n",
       "      <td>0.000000</td>\n",
       "      <td>0.000000</td>\n",
       "      <td>0.012705</td>\n",
       "      <td>7.0</td>\n",
       "      <td>20282.0</td>\n",
       "      <td>4</td>\n",
       "    </tr>\n",
       "    <tr>\n",
       "      <th>2</th>\n",
       "      <td>0.005168</td>\n",
       "      <td>0.000032</td>\n",
       "      <td>0.083838</td>\n",
       "      <td>0.000003</td>\n",
       "      <td>0.108542</td>\n",
       "      <td>0.082445</td>\n",
       "      <td>0.059671</td>\n",
       "      <td>0.323994</td>\n",
       "      <td>0.086045</td>\n",
       "      <td>0.048063</td>\n",
       "      <td>...</td>\n",
       "      <td>0.005203</td>\n",
       "      <td>0.194623</td>\n",
       "      <td>0.002892</td>\n",
       "      <td>0.100071</td>\n",
       "      <td>0.000000</td>\n",
       "      <td>0.230320</td>\n",
       "      <td>0.000000</td>\n",
       "      <td>9.0</td>\n",
       "      <td>44813.0</td>\n",
       "      <td>5</td>\n",
       "    </tr>\n",
       "    <tr>\n",
       "      <th>3</th>\n",
       "      <td>0.000000</td>\n",
       "      <td>0.043847</td>\n",
       "      <td>0.155785</td>\n",
       "      <td>0.060298</td>\n",
       "      <td>0.002540</td>\n",
       "      <td>0.001057</td>\n",
       "      <td>0.019491</td>\n",
       "      <td>0.000000</td>\n",
       "      <td>0.289474</td>\n",
       "      <td>0.028601</td>\n",
       "      <td>...</td>\n",
       "      <td>0.000000</td>\n",
       "      <td>0.215231</td>\n",
       "      <td>0.001268</td>\n",
       "      <td>0.000000</td>\n",
       "      <td>0.000000</td>\n",
       "      <td>0.224795</td>\n",
       "      <td>0.004475</td>\n",
       "      <td>5.0</td>\n",
       "      <td>3823.0</td>\n",
       "      <td>6</td>\n",
       "    </tr>\n",
       "    <tr>\n",
       "      <th>4</th>\n",
       "      <td>0.000000</td>\n",
       "      <td>0.000000</td>\n",
       "      <td>0.000000</td>\n",
       "      <td>0.000797</td>\n",
       "      <td>0.000000</td>\n",
       "      <td>0.011797</td>\n",
       "      <td>0.048466</td>\n",
       "      <td>0.000421</td>\n",
       "      <td>0.000000</td>\n",
       "      <td>0.004504</td>\n",
       "      <td>...</td>\n",
       "      <td>0.000000</td>\n",
       "      <td>0.000000</td>\n",
       "      <td>0.000000</td>\n",
       "      <td>0.000000</td>\n",
       "      <td>0.056612</td>\n",
       "      <td>0.050381</td>\n",
       "      <td>0.061281</td>\n",
       "      <td>4.0</td>\n",
       "      <td>12345.0</td>\n",
       "      <td>0</td>\n",
       "    </tr>\n",
       "    <tr>\n",
       "      <th>...</th>\n",
       "      <td>...</td>\n",
       "      <td>...</td>\n",
       "      <td>...</td>\n",
       "      <td>...</td>\n",
       "      <td>...</td>\n",
       "      <td>...</td>\n",
       "      <td>...</td>\n",
       "      <td>...</td>\n",
       "      <td>...</td>\n",
       "      <td>...</td>\n",
       "      <td>...</td>\n",
       "      <td>...</td>\n",
       "      <td>...</td>\n",
       "      <td>...</td>\n",
       "      <td>...</td>\n",
       "      <td>...</td>\n",
       "      <td>...</td>\n",
       "      <td>...</td>\n",
       "      <td>...</td>\n",
       "      <td>...</td>\n",
       "      <td>...</td>\n",
       "    </tr>\n",
       "    <tr>\n",
       "      <th>4995</th>\n",
       "      <td>0.000000</td>\n",
       "      <td>0.000000</td>\n",
       "      <td>0.039677</td>\n",
       "      <td>0.303487</td>\n",
       "      <td>0.000000</td>\n",
       "      <td>0.000000</td>\n",
       "      <td>0.028411</td>\n",
       "      <td>0.000000</td>\n",
       "      <td>0.050262</td>\n",
       "      <td>0.001467</td>\n",
       "      <td>...</td>\n",
       "      <td>0.000000</td>\n",
       "      <td>0.448323</td>\n",
       "      <td>0.008303</td>\n",
       "      <td>0.109156</td>\n",
       "      <td>0.000000</td>\n",
       "      <td>0.049678</td>\n",
       "      <td>0.045866</td>\n",
       "      <td>6.0</td>\n",
       "      <td>33753.0</td>\n",
       "      <td>4</td>\n",
       "    </tr>\n",
       "    <tr>\n",
       "      <th>4996</th>\n",
       "      <td>0.000000</td>\n",
       "      <td>0.142466</td>\n",
       "      <td>0.077517</td>\n",
       "      <td>0.144023</td>\n",
       "      <td>0.000000</td>\n",
       "      <td>0.003998</td>\n",
       "      <td>0.054043</td>\n",
       "      <td>0.105628</td>\n",
       "      <td>0.104216</td>\n",
       "      <td>0.071372</td>\n",
       "      <td>...</td>\n",
       "      <td>0.005699</td>\n",
       "      <td>0.035679</td>\n",
       "      <td>0.098226</td>\n",
       "      <td>0.089646</td>\n",
       "      <td>0.000000</td>\n",
       "      <td>0.001508</td>\n",
       "      <td>0.000000</td>\n",
       "      <td>1.0</td>\n",
       "      <td>30111.0</td>\n",
       "      <td>2</td>\n",
       "    </tr>\n",
       "    <tr>\n",
       "      <th>4997</th>\n",
       "      <td>0.001409</td>\n",
       "      <td>0.045695</td>\n",
       "      <td>0.170150</td>\n",
       "      <td>0.010677</td>\n",
       "      <td>0.000000</td>\n",
       "      <td>0.003899</td>\n",
       "      <td>0.109423</td>\n",
       "      <td>0.058182</td>\n",
       "      <td>0.096817</td>\n",
       "      <td>0.047037</td>\n",
       "      <td>...</td>\n",
       "      <td>0.000000</td>\n",
       "      <td>0.000000</td>\n",
       "      <td>0.029231</td>\n",
       "      <td>0.003437</td>\n",
       "      <td>0.000573</td>\n",
       "      <td>0.008003</td>\n",
       "      <td>0.000000</td>\n",
       "      <td>7.0</td>\n",
       "      <td>9107.0</td>\n",
       "      <td>3</td>\n",
       "    </tr>\n",
       "    <tr>\n",
       "      <th>4998</th>\n",
       "      <td>0.000000</td>\n",
       "      <td>0.000000</td>\n",
       "      <td>0.033023</td>\n",
       "      <td>0.101326</td>\n",
       "      <td>0.007097</td>\n",
       "      <td>0.099455</td>\n",
       "      <td>0.067268</td>\n",
       "      <td>0.052109</td>\n",
       "      <td>0.004868</td>\n",
       "      <td>0.000000</td>\n",
       "      <td>...</td>\n",
       "      <td>0.328659</td>\n",
       "      <td>0.007695</td>\n",
       "      <td>0.033618</td>\n",
       "      <td>0.000875</td>\n",
       "      <td>0.000000</td>\n",
       "      <td>0.059878</td>\n",
       "      <td>0.014549</td>\n",
       "      <td>7.0</td>\n",
       "      <td>38242.0</td>\n",
       "      <td>4</td>\n",
       "    </tr>\n",
       "    <tr>\n",
       "      <th>4999</th>\n",
       "      <td>0.000000</td>\n",
       "      <td>0.163944</td>\n",
       "      <td>0.219557</td>\n",
       "      <td>0.139768</td>\n",
       "      <td>0.000000</td>\n",
       "      <td>0.083855</td>\n",
       "      <td>0.121325</td>\n",
       "      <td>0.211365</td>\n",
       "      <td>0.000184</td>\n",
       "      <td>0.064362</td>\n",
       "      <td>...</td>\n",
       "      <td>0.000000</td>\n",
       "      <td>0.000000</td>\n",
       "      <td>0.000000</td>\n",
       "      <td>0.000000</td>\n",
       "      <td>0.045654</td>\n",
       "      <td>0.054685</td>\n",
       "      <td>0.032546</td>\n",
       "      <td>5.0</td>\n",
       "      <td>326.0</td>\n",
       "      <td>6</td>\n",
       "    </tr>\n",
       "  </tbody>\n",
       "</table>\n",
       "<p>5000 rows × 515 columns</p>\n",
       "</div>"
      ],
      "text/plain": [
       "             0         1         2         3         4         5         6  \\\n",
       "0     0.005079  0.033506  0.004486  0.000000  0.019639  0.012299  0.127739   \n",
       "1     0.356676  0.000908  0.149722  0.000000  0.027146  0.056867  0.013451   \n",
       "2     0.005168  0.000032  0.083838  0.000003  0.108542  0.082445  0.059671   \n",
       "3     0.000000  0.043847  0.155785  0.060298  0.002540  0.001057  0.019491   \n",
       "4     0.000000  0.000000  0.000000  0.000797  0.000000  0.011797  0.048466   \n",
       "...        ...       ...       ...       ...       ...       ...       ...   \n",
       "4995  0.000000  0.000000  0.039677  0.303487  0.000000  0.000000  0.028411   \n",
       "4996  0.000000  0.142466  0.077517  0.144023  0.000000  0.003998  0.054043   \n",
       "4997  0.001409  0.045695  0.170150  0.010677  0.000000  0.003899  0.109423   \n",
       "4998  0.000000  0.000000  0.033023  0.101326  0.007097  0.099455  0.067268   \n",
       "4999  0.000000  0.163944  0.219557  0.139768  0.000000  0.083855  0.121325   \n",
       "\n",
       "             7         8         9  ...       505       506       507  \\\n",
       "0     0.000000  0.104995  0.016156  ...  0.000000  0.000000  0.002622   \n",
       "1     0.000000  0.094401  0.013550  ...  0.000000  0.210675  0.030789   \n",
       "2     0.323994  0.086045  0.048063  ...  0.005203  0.194623  0.002892   \n",
       "3     0.000000  0.289474  0.028601  ...  0.000000  0.215231  0.001268   \n",
       "4     0.000421  0.000000  0.004504  ...  0.000000  0.000000  0.000000   \n",
       "...        ...       ...       ...  ...       ...       ...       ...   \n",
       "4995  0.000000  0.050262  0.001467  ...  0.000000  0.448323  0.008303   \n",
       "4996  0.105628  0.104216  0.071372  ...  0.005699  0.035679  0.098226   \n",
       "4997  0.058182  0.096817  0.047037  ...  0.000000  0.000000  0.029231   \n",
       "4998  0.052109  0.004868  0.000000  ...  0.328659  0.007695  0.033618   \n",
       "4999  0.211365  0.000184  0.064362  ...  0.000000  0.000000  0.000000   \n",
       "\n",
       "           508       509       510       511  clusters      idx  label  \n",
       "0     0.020218  0.025496  0.014650  0.015216       3.0  16161.0      8  \n",
       "1     0.072562  0.000000  0.000000  0.012705       7.0  20282.0      4  \n",
       "2     0.100071  0.000000  0.230320  0.000000       9.0  44813.0      5  \n",
       "3     0.000000  0.000000  0.224795  0.004475       5.0   3823.0      6  \n",
       "4     0.000000  0.056612  0.050381  0.061281       4.0  12345.0      0  \n",
       "...        ...       ...       ...       ...       ...      ...    ...  \n",
       "4995  0.109156  0.000000  0.049678  0.045866       6.0  33753.0      4  \n",
       "4996  0.089646  0.000000  0.001508  0.000000       1.0  30111.0      2  \n",
       "4997  0.003437  0.000573  0.008003  0.000000       7.0   9107.0      3  \n",
       "4998  0.000875  0.000000  0.059878  0.014549       7.0  38242.0      4  \n",
       "4999  0.000000  0.045654  0.054685  0.032546       5.0    326.0      6  \n",
       "\n",
       "[5000 rows x 515 columns]"
      ]
     },
     "execution_count": 10,
     "metadata": {},
     "output_type": "execute_result"
    }
   ],
   "source": [
    "plotX"
   ]
  },
  {
   "cell_type": "markdown",
   "metadata": {},
   "source": [
    "## T-SNE K-means Plot\n",
    "Performing K-means to visualise Typiclust's 'clustering for diversity' step. \n"
   ]
  },
  {
   "cell_type": "code",
   "execution_count": 11,
   "metadata": {},
   "outputs": [],
   "source": [
    "#T-SNE with two dimensions\n",
    "tsne_2d = TSNE(n_components=2, perplexity=perplexity)\n",
    "\n",
    "#This DataFrame contains two dimensions, built by T-SNE\n",
    "TCs_2d = pd.DataFrame(tsne_2d.fit_transform(plotX.drop([\"clusters\", \"label\", \"idx\"], axis=1)))\n",
    "\n",
    "TCs_2d.columns = [\"TC1_2d\",\"TC2_2d\"]\n",
    "\n",
    "plotX = pd.concat([plotX,TCs_2d], axis=1, join='inner')"
   ]
  },
  {
   "cell_type": "code",
   "execution_count": 12,
   "metadata": {},
   "outputs": [],
   "source": [
    "# Initialise clusters \n",
    "plotX[\"dummy\"] = 0\n",
    "cluster0 = plotX[plotX[\"clusters\"] == 0]\n",
    "cluster1 = plotX[plotX[\"clusters\"] == 1]\n",
    "cluster2 = plotX[plotX[\"clusters\"] == 2]\n",
    "cluster3 = plotX[plotX[\"clusters\"] == 3]\n",
    "cluster4 = plotX[plotX[\"clusters\"] == 4]\n",
    "cluster5 = plotX[plotX[\"clusters\"] == 5]\n",
    "cluster6 = plotX[plotX[\"clusters\"] == 6]\n",
    "cluster7 = plotX[plotX[\"clusters\"] == 7]\n",
    "cluster8 = plotX[plotX[\"clusters\"] == 8]\n",
    "cluster9 = plotX[plotX[\"clusters\"] == 9]\n",
    "cluster10 = plotX[plotX[\"clusters\"] == 10]"
   ]
  },
  {
   "cell_type": "code",
   "execution_count": 13,
   "metadata": {},
   "outputs": [
    {
     "data": {
      "application/vnd.plotly.v1+json": {
       "config": {
        "linkText": "Export to plot.ly",
        "plotlyServerURL": "https://plot.ly",
        "showLink": false
       },
       "data": [
        {
         "marker": {
          "color": "rgba(31, 119, 180, 0.8)"
         },
         "mode": "markers",
         "name": "Cluster 0",
         "type": "scatter",
         "x": {
          "bdata": "hQh0wYMqkcEpp/vBvQ/iwdmMacFxh5XBu7bLwchDhcF+Yp/BvLznwVmuXcHz/aLBPOuewQBKL8HeOorBuUy3wd28s8H5V4fBZl+NwSlY4cEpYbHBQmd6wbAp58HtxOrBgDC5wSSNy8EsrW/Bd0AgwUR1QsE3QczAckEzwYrGi8Fn9KPBPf+UwQc7ncELeHnB9CaswTOqRsHXUmHB3Mh/wZj8ocE+7GPBLOzGwQVRhsGcCWzBa+3WwandicEW5aXBtty9weNEocGU6YbBjBw5wQV5isFriS7BnaWkwU56gsEs2rjBKbDuwWQiUMGIX/XB2ZWOwXcN3sGbR5bBigV9wT6AqcENUlTBGiCfwYX1oMGePpHBPyuFwSs06MFpy1vBTKpDwT0kZMH1zXvBu9bdwbE188EhUsHBwk/uweX4XMFkNEjBsF2EwPdnq8FtwqjBOsc0wX9mhsH9HY3B4UCBwQAqssG2y/HBvZ2rwULPxsCWfqfBXqjGwQNLrMHVI3/BtE2BwYq1c8GVR5jBjXK1wW9FhcGFBN3BqfNPwdTegcHmHkXBy22fwUKSdcFjuHDBSF+OwaPNjME2XLDBdxCKwetm28Gnq3DBpWUgwUN6VMHUByvBE+K/wRvKisFWy6HB17zbwaXUi8Gu2o3B7H68wYb2wMEWi0XBMd80wT4w58GOQ5jBJBPxwQs+8sH85IjBKG3zwccyOsEcterB6CR+wXL96cFd/LLBci60we/8U8GTvGnBSZWGwRwvq8GbC7HB6dRLwbMz4cGNWI7BqlWfwfC4zMEwR6rB8i5jwczwhMECQlbBm/dNwdCCOMFQEcfAUxeewUm8ScEdy3fBHsGowQJrscFh3+PB5dWFwS5JRMESX4PAkWzGwShmisGyo2fBR75wv+mNn8CrUInBsA+BwQLh6sFE9+LBOv3dwYlNd8FeRtnBvLGWwc1xicGf/eLBkiGNwaLKoMHzyN3B8DO0waQ6g8FAHyzBj0vgwRJCz8F+XHTBOX9Dwagfx8HW5tXBT7CWwQcTRsGq6+HBUFa1wcadesH6GW/BicmMwQ30Z8GYsWPB4q7OwUK9sMH3XYPB+4eqweiVicELCIjBn2Vdwb4FZcGpp5fB2qWIwb0MxcFFqKzBolqhwWgwWMHiTbLBcm+Twezgn8ERgFfBRKPPwKNymMET98XByx15wXOuRMHZEsrBpeyVwSl7qsEd3oTBmpL/wdSPdcE8JevBQr0xweHbUcFSPozByN9UwSvX9cHuq+LBgJAowUss98G0yGTBdOelweHSb8H3AZvBFTaYwcdIjsHA9t7B1g56wUK/YcEeyvnBlcWnwWR4WcFCwbDB5uabweYG58EAU7PBW0mgwYf90MGqCcXBNWnHweEktsFaPUTBvEUnwaohoMGfXpfBO7CPwTsglsGibVzBT+nAwTL3ScEcO57Bc1yhwXeGo8Emin/B4DLGwQa/ssH8qprB6xmowcautMH5wZPB5eeCwUWEscEGi8HBjoiPwVqf7sF4vGXAy2KyweFgsMEZUkXBzLN0wetfksENRJjBxppXwVUFhcEBjTTBX/63wXe4XsECuObB",
          "dtype": "f4"
         },
         "y": {
          "bdata": "KDrjQa0D/EF04dBBVC3DQfuO+EFsiepBxGsAQuzeE0LKhgtClUbnQe7jGUJMveRBAKIAQg/lCEIVdRlCz9v/Qe0B3UG9iPtBGDT9Qc0910G34c1B05n6QfMpx0Gwg9FBFboSQsKs7kFEsOxBvt3eQf6DDkJGifBBw3nwQfrV5UHOnAJCnB8YQjQhE0IND/xBWP4KQhOoBEL24AVCm14JQrRlAUIWVwJCSDEFQuhyE0IvxQdCcLHgQcjAGkLdNxtCKVENQqaTE0KBrhVC+/71QW7UE0Lz/89BaIQZQgCpGkLRLRBCVLPUQRHy/UF5JddBPvAVQrwNzkFhCe9B7FcSQqrh/EHLsv5B2QYSQkYt6EFLXANCy7QCQuqB50FeaxBC2SYPQtQDFkLUnepBn0HbQbILvUFVWfhB8XHWQa5mGkIwsBBCFACRQfeAA0Jq3xVCe28JQp595kHvyPZBQ2fwQWzWzEHr3uFBCzQBQgtuA0KxjRNCmZ7vQUwLC0ImhhNCNwAJQh04AkItEvdB0CEWQofFxkGFEcdBCEwGQl10EELYVQ9CAdXeQaTmDkKRyO1BvKYSQtoC/0FDrBBCXcATQoZe7kENvQVCMgnQQYZ+/UGcUglCkQvKQQc/EEJcJwFCxq7HQYHyF0IomrlBdfyjQaQpp0HKqgNCDKTlQXT31kEu9fBBHrvZQbzA0kFxq+1BR8bMQVldCEID+dxBD0oZQoXL5EFO/gRC3sUTQtemBkI9hO1BZskLQhGEAEJvbgdC6j3mQR2U8UGWzvFBmybpQcX6AULjrfhBzm0IQrBv+UHjnP9BBPgWQje1AEJ5gQNChqsSQprb7EHfhAJCsgUCQqnR+kF+yc5BlCgDQrrz9kGJUc9BnuDQQTbMGUK7wuRBeBeJQRqG9EGzfQ1Cj6kJQoH44UF4VepBFJDUQYX4qUFuoNdBePYXQmdHCEJCT9ZBNuzmQYaBCEL6Y89Ba08TQp9E5EG0R/FBYjncQQkq+0Ep+BVC42/2QYd470EXc9xBSvXiQWkF7EGNpelBxukEQhBvA0L6IhRC2dgIQjUp8kGRqgtCObvsQSQtBkInzg5CYTT7QVSJB0JrIA9CGpj0QQh1FEJKoAhC0zgZQkGI8EHSkAdCdPsMQvD560EhjftBhAsTQuSy90E/ZRNCCgnoQQGREUJrw95BwRYPQqJwB0JC/QBCca0SQuFRBEIG8dlBLHrLQVjF60GPG/FBttbtQZXu9EFJ8O5BbJrdQeQizEHdSdlBTILGQUXZxkEmogVCA7kPQp5L5UEnp+FBVFAFQthiFELzD+BBz+D6QbrjE0JJDMdBSMUEQstlBULJfABCqnMYQmrK1EGaq+tBbhEMQq+n1EHo7ddB6MXYQU7p8EEzTQ9CibP5QUkGE0IDORNCAqQEQswSDEKhshlCP/vYQRubC0IHeAZCFbfIQdBLG0LpVhlCSZT8QSHFBELfag5CdgoXQmIn3UHA3BFCYJIBQj3dDEKgnwNCK4gKQg6DyUHvwM1BFarMQYJZ5EFfWARCZsH/QQBaCUIBKulBTrYMQqWhxEHYRgNCvLQUQhFO7UFw39tB",
          "dtype": "f4"
         }
        },
        {
         "marker": {
          "color": "rgba(255, 127, 14, 0.8)"
         },
         "mode": "markers",
         "name": "Cluster 1",
         "type": "scatter",
         "x": {
          "bdata": "TNw9QBLHDsE3fSlA6lNzwNsGSUAnNLTA0oXbQCFsL787XoZA0sTAQO7g5cB9UQFAti4YvyGjbkDLIQVAYxEsQF/5F0Fxmxg/NcCivzF+ukAScP9AkHKIQLEQkECoX9xAh3QwwEU04D/YcGQ/CffNQJP3tkDtHpzAtZiBQOB5KEEczptAybsKQEysQz+hk8LAqRVGQPDboz80d54/Bk9+wTiOp7610MfAJXvKQOOO6z8oDejAhSbXQLqsysC/F4tA7IC/QBuQ1z9TOBxBtmTWQJozHUHUhBPAVTibwHrjHsEpzDa/2hwaQe9WskDdHaTAfD4OQZNt4D8NaQ/CVT4YQRt1W0CRvtE/dhMQQF2SdsAJOmJARQkVQQWzp8DqFDQ/F88KQUhl8EGDobnAcWktQLDzgUCvAaZAfMpuQAZQA0F7OZnAwsSKQGCBt0DUDlxAJAhRwBHRYcDXN83A+9/fwHLGiL8jE+NAqrHKPzl0AEGO0wy/QIe5QD4DRb5idpNA8ngbwB3REkDJmM8/mxY2QKeqs8B76tZAsnM+v6UUqMDGv6HAJbZdPzNJHUAktCRAZk8hQZm5CcCULsA8F6NOQCywD8LaIPQ/gkjQv1WuKr/h5dtAdpKlPzEYkcCOsM5AzjnxQFxP/UCvBthAphSjQATfkEB3QCXBl1UuQVYYbUCCAWS+yuFnQPFVBcGugBJAm3nkP1Rm3sBDf/NAloIMQeTAsr5edJK/Ju/IvyDy6EAfDw/CTjfkP7Mq2z88sr4+pme/v6iEkEDrg8NAma7yP/BiAkGh9+HAu3WWQAiCTb8DjuTAAEjswNFFuMBtiBhBc9nvQPItFUFswsbASh6/wG8RmEA/zg3CigYpQMpbj7/j95tARVK0PxMGwsCrfj/BSAkmQeIeGz8Q9R9BdCoTQarZrkA4glNAYFlKwVQVLUAXWu3An7knQIG8+MA0jqJAbRWDwCGfN8Ea+w3BYRFxQDnGWUCb7sQ+GTILQbrevcGJei7AeFoLQJZ51D/UcgjAw7nqPgA25kD7To7AYTriPfDXGUEHZdU/NeBNwFmmhD6TeVy/UxTXQLGRj8Bbyb5A",
          "dtype": "f4"
         },
         "y": {
          "bdata": "ZJ3lwaldqcGiMffBWx3kwXMO6MHmQ8zB3bnkwWhS/cGeYvvBwdTvwXSI1sFzNeTBCNzvwW6Jz8HSubPBCQjgwVla5MFFTQHCDpPvwXhcxME2ytrBbQ78wS+m+MG5zM3B//PKwfIs5MEoEMrB3GPYwVth58FLVgnCGHrrwHXv0sGbhfXB7jz0wV3wAsJyAgXCQBsAwoBPAsJ4yuTBmKxqwVXWzcFnEgDCrCvuwSmExsENxgrCt6nYwXDHBsI/Is7BasPZwZMD9cHe/ufBbNPIwQZ46MHJGdLBiaACwqyRWkG7Xt/BcSzqwbAn28GaBK7BlefjwSwt68H6ZFBBrwvywYoh0cEU1f7BzVjAwchCssE6ogTBfUXrwfDhDMJ3QgPCrFHCwX+Ij8H40uvBxxjgwaZh38GvyPbB1bP+wRck48FbS8HBndzlwRMU5sGsM/7BjYQKwmIFCsIdPSNBrxsHwkJ40sH8jePBF2oIwnKE5MHXfN7BmDzswZwL4sGye+bBBEziwa9e+ME6jNzBIK+mwDw4BsIybPTBiIHPwTgMx8FrjgLCg4j2wSqy7sGrAQDCL6Pnwb6St8F3BsDBVuivwaUFUUHyZ8fB3IPOwb0s2sEBlOTBUqOhweus3cEcCO/BNq3xwYq18MEVA8/BsPLQwZzBvsHP5ZNAKQTbwX4SBMIeXfbBq07ywaK4OsEvY/LBZT37wZ0eB8ICxb7BZMvZwWpLBcJ82urBS5TwwU1u7MEhak9BEBjTwfskCMIcLtvBbpDXwfcz6MG4A9TB1CPywYBH0cHhJgPCAInrwdlc7cGWlbzBJf+SwYbfCcJLn/DBR9LpwSDc1sFpAKvBMMELwpwEzMGWk0xBOxLgwT3UwsFmsNXBJyC7wQe27MFYoilBZdbQwf4NBMLJrt3Bjg/rwach3sE/P87BbIw0QXMd2MHBnwnCw0XjwTBk1MFQgK3B5IoIwrdKPUEpxqrBE23Kwdxu7cExqe3BL0fYwfQFDkHpDdPBq6sEwrSLgcEgV+TBRg2twEVk1sE0VwHCvFBpQI6G9MHrUsbBKRwIwkOiAcLMtvzBwpbFwcXVDMJIKOrB",
          "dtype": "f4"
         }
        },
        {
         "marker": {
          "color": "rgba(44, 160, 44, 0.8)"
         },
         "mode": "markers",
         "name": "Cluster 2",
         "type": "scatter",
         "x": {
          "bdata": "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",
          "dtype": "f4"
         },
         "y": {
          "bdata": "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",
          "dtype": "f4"
         }
        },
        {
         "marker": {
          "color": "rgba(214, 39, 40, 0.8)"
         },
         "mode": "markers",
         "name": "Cluster 3",
         "type": "scatter",
         "x": {
          "bdata": "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",
          "dtype": "f4"
         },
         "y": {
          "bdata": "P1rpQGwMhUCruLbAOiCXwXJtj8EtNtjA9SnJPlYUT0DmhMRAyzopwP79JMFi8SzBZmZ3QTyGCcGi4uJAFPpYwNsjJL/WUI9ATB5gQYdtWsAAKpzAwNcXQD4Mmj7vYbXAhcl7wZTfdMFhhoDA7dCEQbYPasHNORvBLiOiwH8EzD/nA6xA59OpQO1L8EDNwz3Bdi2Lwcw3FUHHl3rBSE+qQBwLwb+h3Z9Bb1UEPlERGkFW1APBOSGpwMAUGMGoHiXBJUUtwQzA/L/OnqvAMsSiQKqsz78/El7AQKt8wTt/JkFCDhfBjfmEwBZAMMF9wTjAVnCoQOV2jUB3QqDAedwyQagwcD8K9l/ApCL6wCefJEFhxwFBRoAlv4EIrUEVKEFB74bxP8md3cAXCYTBLAA3QFi9J0D4tINBjR2GwDnkkr69YInBMfgpQK5pxT4bv9XAyIGFvT12dkDC9CLAYn6hPhwJSMFnkerAL87JQOKfH8GlTgrBzbHNQCcgocAOlIi/ougOQGTbHMC2Faw/WkVYQDhHfr+BLRJAWYjbwH0IUcDr6ZdAO9jZwDlOlsCjd2C/IHAEwYtSIr9up8e/YuEfwb2MGkDkD1vA8z1VwdVLoMEv/6LAsyacP9Wrqb90FRZBVUc4QEpcZMCB9IfB5Cuawb/fC0FP0iXBzOsKQPBGp0DoBRhBplm4QCIGdcHNDCrAqH1WQBbQLkBWfjHBt6MBPrmoA0EHvbfAAGIowJ3hQkBllcJAzZYhQD2pdD+3bn1AQPEQwYsYJ8E3J0fAMszJQN5Nn8AKSFpAbDWawcltkkEtRV1AkR63wGlSl8BTTN3AiigMwHgRzcD1GyQ/UodvvzMNr8CgcxlBmZq1wBSbcUEp54/BNyrbwOmtYUEqQ3LAeEcPPuP38MBC6RHBnTp0QcFIgsHKL5LAHDYEQc2ZfEHE7CZBDGCkwCpVRMGPlmLB0OcjwTEEM0ERgatAkqYewEdUBcG9aYHByJN3wBvRT8HhpN6/BLbRQAxXU8GnDQvAPbpoQVJH5sACJqzAOQFvwRhGW0ECqAVBe8fTQE4QicBYsURAjtcAwWFDVj/aH75AxKoZwDFVdMHlbCjBOhrwQNIcWMD4cC7BrYs+wfCsJD56JmDA/qyuwHwnoMGVt6TAKxSUweaTGcEO7VPBbg8eQcQzDEFfVjHALoM5wSQkEUC50AvBdSM2wRdzp0AVIyjBtIz9wBwBUb5xy5PBSEtov4WoFUDSCZM/wiKLv6P5MEGqAoXAQRmUQSEIW0H+ON3A2gZqvwA7jMFdQB/BB4dKQP7jMEHSvAc+QjcrwOnWF8EyUXLBPjmywOqmqsAQDBrAK1DrQALxc8HRuQzACcB3wX25WMH0TYTAQJCmv3WtucBPsHrBrwsDwWhLAMEq/A/Axj3UQIk6zcAnqTRA70bTwJBZpr+OF6bB9qhAwRlMV8DK/gfBRbxhvc1/Qr7zAtW/iv+KwIllF8EZit+/suXNP9iFWsCYlE7BYgLPv+srpsFopIXADOBMwDNPk8GpCDW/BIgfwAXqJUFZfoLAcdrPv+TkRsCd+h7BXLniv32HvUCmcozB4nGCv1Ljo8DUqGbBFJgWP0tiZ0CCWMJACXwAQXPZWUH48VHAKQDrQAt3kkG4Xk/BelFBwLg7BcAxGmPBB/i+QLgsTcFc3u3A57zwQD+xlMCWcUtBdeglQXJW1MBuaejAu1RgQVDXjsFgtFzBLQ3pwERwCkC4/VLBurWzQCAlh8BQKBLB8t+mv4mEIsBQGltBF1OOwdtmFEF1PtbAdU83wWVqAEBTOMfAeBW8v5VrDcEIVJpB7+UHQJDo0cCV+EvAoTsHQH2hR8EwlunA72o2wVDfUEBqIdu/KPmfwNd3hr/iM+RAErdMwX3hJkGrJIjB75BwwcxDT8HRDo8/xg+PwUF01cDxAohBfcctQTEp9T0yifk/pIecQb4XtEBwpZ/AG7lzwPZLkj+3dDXAib8swcMuAD+xBa/At4IlwZYEz8AQI8S/pX0+QYTPecB5Y2vAVfUiwRqhCMEgL2S/ZT0QQKXiMEFtGl8/5ynYP/UnbEA11D9AgYO+P7Kk7UDFNrxB6EwzQbBacUEVHRNAOX8wwTS6Z8H3bQZB7txbQWpPZcHXSdXACsp4P/Yue78U50k/2RawwElnqD+fPQJBqKNUwXSKscDEdJXBkQIFQP3DgMCbQxTBp1WawCsFBL9ss2TBIemfwEhu9kCx8BZBYHdHwClSH8E0/+zArev0wCwUjEG6EAbBoLBjwYMQc0HFIsG/PT4owSgoB8Edu1pB9wKzwMtFT78o9xVBrZWSPn+ykECOqk3A+X5Tv52pzUBnSOg/AcLqwJEAvcDCnQ1BgVu8P6WHMUFd/RjB8Zyrv60FKsB1NY9BPmdwwTS40sBNhedA1xyKwVYRBUAhV8q/GpMSwYe58L8OyufAHw93QZfUP8CRyt6/TPNZwRkxYcANygbAzgZnQTjgLMBLF6fAj0ukwPU+hUDYJ61ATP6swHo0hsE+va/A9O64QOk1psDsJQzBFceAwauyGsAs3yLAjXOtwCyPf8H6JMNAtaQZQO6HTMFlHPm+Bx0FQfleHUFTWfXA54EHQcBGDcHtjIlBnC9iQZlbScEFTJDBMVUDQY7/zsDtdSbAnX2vwKspIcGv+fe+fhukwCy0u0GAdq0/PDoAwZ+siEHUYyBBM7wAQCfcAsELSsS/o7omQTahCMGuOs3A58aEQCBFK0GL7w1Az9lBwIkJeb+lqWJBa0lAQODqhMGEm4HAaLciQVcJasHkTjRAtBMcQaFswsBCYRXBZL6AQPh/tL5SLPq/0/iBwYqAQ8Hi9CXBq0QeQet5IMDfPFDAfdk6wdgGKL+uW7zA0fJDwQZ1LMGHIGHBsuQZwMg0i8GIjgXBc+XFwNB8HUH2eDXB29h8wEGQOsHB06NAquNUQYXzfMAG6+pAq8pgv4wREsF+w15BWPi6QLmsC0CwIGzAzmXKQGmM1EBpR53AKpLhwCfcTcHf7n7B4XySP468qMCUl7o/V7/SQFqiy0DQ9J5AF1MNwTIilz+tT2jBgP7xv7sVpMCgWAzB5gdwwVu3BEF+v2TAvsb8QGmIakFfEIrAGtogQeXgqsCYPyrBr4S0wIIxJMFXSi/BudP4wAUtvcAp8hJB02v4P5veHcEpRB3BoNKEwSk9J0EOYbFAasWyQM/KhMD9En3A31aAwCFjEsFuKgDAJ3zMwKs1QsFbI03ADzV8wGbslUA9SZLBSF7Yv81cLEGY52HARQR9QJr9dD/OCiNBVLsGwIKjOkCjumhAjMyAwQM+U8Eq/YzAAKPGv4PVXsHxMWDAbjXzwI1wPUB8IFnBVdrMwGl3GsEect6/E04hwXTt4sC45nFAF82PQMTuTsCp7bVAuSmGwfmK5UB4XytBVni/wAMdgsEfLGhAp7nhwEWzEsHPpYbAZHySQaVYXr89LsjAmb7EvTpTsMCRf47AFSNdwQC4iEG+Gp/AeBz8wF5o3kA4dwpBgaRZwEejBkEU8zLAzDmuwHa19j4up4HA9g2XwXJm5EDd5Ry/WQ6VwQ==",
          "dtype": "f4"
         }
        },
        {
         "marker": {
          "color": "rgba(148, 103, 189, 0.8)"
         },
         "mode": "markers",
         "name": "Cluster 4",
         "type": "scatter",
         "x": {
          "bdata": "bKDCQLaERkE0VyJBjofIQI41IUHPlAlB8rB7QdybdUFOI4RBY0gkQBRyEEGFfA5BnTKjQOUGNz44iUdB3o1TQQ7BT0EWmyBB38RDQfEYO0ECC/FAl3JqQYnBXkGi/xpBgDoSQXS0B0Er9JBB6BJuQepVuEBoBntBgXYBQTM6DUH8HTFB8K24QLKdWkBGex1B5OUVQF5Nj0AFau5A8tnmQBw2RkGJx6RAA5eVQPWJ2UD0tMhAkkknQS8u9UCk+5NAzUWOQPXV0D954eRAnZErwZtGukCx5wxBzoyDQHATvkC5p7PA220qQcYWIEFJtzNBZLq9QOmXaEB1RSxBwBgTQTzF10CnjgZBha31QAjYt0G9ZEdAmq24QJ3vT0FYjklBz5edQaHDVUHQqDNBGwaUQMMTKT8vpU8/eEukQBN4jkB6fH9AfeFbQbGurEBszDZBO3+sQGJnP0HOELE+tsUuQZKgJkFpKr1BUl93QWXD1kDMgKhAnGVDQYT2RkFgFGQ+3tQIQWxUFUFsp0NAP4BEQc+9VUEkg1dAOLCdQRq+LEFQfbNAZ+Rjv/7HAcBqQxxBdhNyQTJLCUBzWDxBRpIqQEUsKEFupDtBLok0QTUH/UAhS79AFNMIQdIFrECyhOO/xMr4P+BLEEFGBntBR9/vP0mc8UCxWGVBV/fxQGs4JEHilUtBjGU8QdRlC8HW7zpBzLAiQfRliUEETfJA/9ZGQQP/T0F3Gb1ASepzQEGNykB0KSjBj5B/QG8E4UDA76tAjgjLQDEOlEEwAmhBUE9HQWDUwECauy5BqtWtQNblGUGJnyVB6HUTQZRTXUGNzDhBV6nUQGHB6D/IbapAnXaVP1J7V0GRbypBldf1QO28TEFVn9FAInF0QGYDzUDgK1pBGDwtQUbXSEEa6QJBy8X2QHkwM0EedI1AXhO2P5CKJECUxPJAZrUqQVmg6MBnVnJBMvwSP5eHYkBWE1RBMVP+QBrTAUH6wRhBBNodQdLq2T8oQGTBeHgGQdBMGkEZ3kdB7+GCQJUjGkFI0RtBFNMkQa/2u0CgJyZB4a66QOvTn0Fz/UJB3KOoQCmvyUDfDzBBMlclQWlqFcCQ+slAL+hQQQwgmUF9B+tApCRSQViUNUHw+ShB1FFpQf16w0AL45ZB8ItawKQPR0EPRVJBhoa3QOY0fz2I4CZB9Jm8wDS+SkAFRk1BNM4SQQON9ECkyZtBAXRHQe11BUH0k0xBnHFKQT6BAEE2669AhykrQWYaE0H2oiFBfJ/CQKqgzkDdoxRALvOPQN9RlEGMF79AY9o/QSKQWz69aJxB5TzhQH0bN0EsJ0BBSYrkQJtJB0FCvWJBUsBVQTlCBkGTavvBkfpLQCr5h0DsF1RBVvuhQJrLcUELUQhBTfntQK7Cx0BAYolAS8zxP5z5PUFUQgJBqQB0Qf02XMBOmxhBtpFdQRb+bUHoCjtBqrbFP6NYpED6+k1Bz6nrP/50OkEvDr1BY+NkQXOuekGh0ENA3lFXQcSHAkFD71JC2z49QSyiF7/lCSBBpK8vQSIFaEH1IJBAZZoTQaXC2z+Uo6y/a2nDQD+WuUEKaYpAI8XoQG4dvkD++0RBT7cyQVEM3T+dPUNBtPnOv+LBO0H4apdAPFmSQWlrMEHzYtlAK2F3Qac810BOr0lBXkEnQEHkXEF09TJBldgrQWT3fr0/YBNBd5XKQB+cur89QCBBS/WfwOW17sAxP/lAvQJgQczkPz+QocVA7S0sQfnxQ0EINY1Bki8BQY+7jsAVk0BBX/dGQVlZYECVpxRBz3yfQLzVLkE7cIjA9mbUQOYFML+7fChBEkNnQXwj90B6kizA9nw5QYZPAkFH3UpB/v/PQHxPzEARlsK/SaJNQTLlD0GmY3FB868dQRCeaUGWS7JAHttUQczhzEBK21VANIFVQfba+EAe5NBAUolRQYj/aUAlJuVA0zCXQK/f2UB3m11BnbAWQTkwEj7ZayFBESRPQQ==",
          "dtype": "f4"
         },
         "y": {
          "bdata": "6eadwRT6CUG0oZjBaEuywMbZc8HdhmvBxyinQNesYMFDsIJA93qmwdJuncGYR6LBvhSewYNhssH0ampB+diCwL7IFcFUhyzAktGGwXbYfsFPsCnBr9+TwXRCJ0E3NlfBfNKcwT5XmsHdY4hASHuTwYk1a8Hr4X2+9nMtQSD6osERRYvBzkXgwAl9YsF0fx/BuJeFwfUHB8Fa7S7B+2Z5wQM8lMHY3FDBaxhgwaalgsEEsmHBYlyfwcFTLMF483/BOQyTwa1Ll8GS41rBQ5uZQRjJWcETgFO/k2lFwYnJmcHReWfBZ7SswVzshcFVZjDBU9PgwPyvj8Gv64TBhulMwfOPvsA9nHHBFwDeQJCdn0E9skrBoiOQwT5n0r+XyajBQho3QRSTFsAHLn/B7YW8wURXicF96ENBaE6rwdcWIkG+apzBV9KHwSZjAMFQIKjBKYr6wPJ3cMGPL5fBGyCRwQ4dKcGeJZxBcltgwUAVj8F7wM/B99KFwXh4lEAbWKPBJM2owX9xnMFENIDBBIOdwYB0lUHU/DDBUQjRuzVFh8GT7p3Bjm6TwbCq5L9+t6XBbp5owe5M78CLB5PBJE2lwb/BoMEjdI7BkQmvwc/xhcHQ8qfBnhIFQWZ0h8HhWZLBgX1ywUCtg8GxZWPAm2tnwbAPpMBOld9AUhaLwQB6hMHGeNJA2y+awY6360GczH7BQ2KnwWEQfkD8qyTBCMiBwWeyi8Fp04bB1RtrwT/BrsEwlerBqBWcwcHJiMGQ3oPByoaEwT6q10BPImDBEztjwSmkBsEV8irBk8wfQc4Ak8HB7JLBLDdNwX7C2MB21KPBivBnwSmLfcG19KvB1qUiwZG3sL9rJUvBKXFZwYqX1kDBbqjBPwyuwGbtkMEB+InB/ZqVwdN3pcGk4TPBCat8wR6jBEH2A4vB5mWkQPFol8Fc6X/B+H+zwdJgWMH694rB4lCIwb7Yi8GoI/hANoTNwB8PLUE/fnnBs4V+wdhjKsHmW7ZBoGLQwEZNKcDZ+I/BBGe3wSa+jMGN1XtA1lwswVvfNMFnhSDBnwKywIN48UCSUzjBUbL6wFIxZ8HGn5HBRbguwNYglcFN80zBok6awUnD90B9a4nBe/pYwY+uo8HDU2DBp2FtwW1oosFuFetAsO88Qe8WCUHSzEvBztyqwfckwMFN/kzBTgDuQallo8HZZoZAafdbwbu8XcE74D1BIWenwT4WUsEqEafBsFSUQMcbIsFc4ITB2W6rwYX+g8HQupjBdtGSwJ/yD8FnVbO/pW2Vwd+71UA/yx1BkfkJQd3bgMG8mD9Ba5p7wYIcB8GHVAdB8v2dweB6rsHmopHBsW+VQQ2+0MEis9ZBBy6JQSKRP8EcUeq/WPqtwU2OiL9fM63B7mSRwbYCsMCWSMDB0AeOwQfvTsEn8NJAZZuEQEaUPcElcCHBLz6ZwQ3iosFG4RLBh3OmQGJXc8H55ITBDUWAwSujqcAgnF3Bbk+AwdJwqUDIVYDBgwmTwRZWz8FfMU9BtKJOwd0OWcGBXI3BCL7awFPbocE6SKbBvSzLwW+laMH7kQfBEouNwBv9nUHu+b/BNP1IwQwRNsEEOpTBqojyQJk9kMEkPVjBC9g4wW5wbcHEW3nBlRNPQEyCgsGPvoHBY06AQIP3pMF1QJDBUgWXwUlFUsF+kJ/BsQ+VwTtMo8FVKJTB58W4wAAKksH0fq3BeWLzQbT1TsHGGZXBmlVVwYeViMGPpHzBAP2AwQ9uzMB9W0lAdZWTwat580E6g9XAita/wSa1MEGiVFa/ClyLwXPpncEcqg3CSt+vwT43hcHu12LB9A2YwccdY8FlIY3B/BSYwRM6i8HwaVzBa35CQYhJncFGYVbBSPB8wWk+XMHBHpjBSdajwfF0jsGosI/BxW2ewTDz98B+Zyi/wlAqwN/ylcFbkBvBBVhkwQIsPEGYVufAAPTHwaiQssGkdjfB+dA9wctpj8Fsn4zBwnSYwQ==",
          "dtype": "f4"
         }
        },
        {
         "marker": {
          "color": "rgba(140, 86, 75, 0.8)"
         },
         "mode": "markers",
         "name": "Cluster 5",
         "type": "scatter",
         "x": {
          "bdata": "7J4hwty7I8JfwiDCU88ZwtQTMsK/YybC42Ylws/FDsJUHhzCW2T5wWuVEsJ6DCDC7176wSLDEsJm6AjCpSEFwvLdKsIExR7CHt4pwtoHLMLJHQXC70AmwowHBsI6jSLCj/EYwnBBJcKSGRnCuMIiwnRaI8KOiTDCAdMHwohWEcJHjwPC44oJwq9R+cGVTJZBLXIEwg+HHcJuJyjCmmEjwtQHBcLYBR7C54IawqDcLMLmsg7CMpAiwsAOE8JdcS3CU3YQwpeABMKOjQ3C1Qjqwdwli79YBRPC1AQawpCs8sEymSjC2GA0wmLoDMKv9hjCchD6wS5oEsItBhLCSWYWwhFkDcL5QhrC/xIfwq2yIcKZrjHCXvs2wrBBKcLXzhXCRikWwm2RKMKm3xzCSF0nwqrjD8IQNR3CG8EXwl5eLsIOmhLCUCD/wQopI8LuuAfCSOczwoImHsLWmjHCMIM3wlfK5sG0zSbC78vzwQy1AsK1nSfCBSYowl+HGcLysibC3vkjwuvrI8IkxDPCPSYewqfcKMLa8DTCAE0GwjWNI8KJzAnCjxYHwmacFcL3ZB3C3QwlwvEXD8KlxgrCF1EtwoIZwkGU2wPC470wwtnPKcIaAgzCO3Qfwg/MIcKSlgPC6j4ZwtcRGcLJhxTC9OYowr+iDsIvWSLCSMQFwh/SBMKdWB/CgMoVwnulC8KEoPVBePfmweDwCsJUyzHCjgokwr+9/sEruh7CEVscwqqvGsLXPOPBDfYBwkzPA8KTDhjCEqkHwtmjJ8KDWyPCFi8XwBLmEsIfPjfCohwXwsGYC8KJYifCA9P3waFTJMI/4fzBtbwxwhKMJ8LpZyTCLq/4wVoMBcK8qijC1GEswt0uGMJ/5fDBqfEGwvK0DcI65xLCr3INwnsKI8IS1ibCeugXws+CMMJzTKzAQfogwgWwCMK/APbBxnUbwlXPKcL0iizCwLccwsy+JMJBfijC3A4Owjk9C8JJZt/B/sg1wsW5HcJmkQ3CAAMqwqRsHMJmwiXCbvQxwqgBGMLz0ijC334awlcHCcKK9QvCtrsswiAXFsIdOR3CvvEbwpYR/cFF1gbCcgwuwpU2FcLxIxfCc6UEwu7oI8Ij1AjCHtYwwn5VBMKAsBTClzwgwllmMcJ24RzCT88dwuTI+MHaPCrCqy8IwmjkBMJqrs/BfecYwn5hDsJH+czBbyIlwpFENMJPDBXCYGPFwb/NBMIP1R3Ckj4vwruZ8sEgVdDB7QsMwp5RDsIbVRfCEuIEwkMNEcKSEh/C6fsUwsOh5MCZOyDCrpMJwhSyFsL3MhLCSuDcwXuM4MHTwBbClUgowsRdIMJJESzCFekSwsUSJcK+nQ/CfZEXwsMzGsK5LynCFB0Nwldh9sEIKA/CAs8RwuCjEsIZkxDC/FmJvyU9FMKgTyvCuMkTwiFBB8KMjCfCZbMhwig//sENSSnC/sEHwqHr/cFUDA7CoP0OwjptB8LSiPjB6u43whkIIsI=",
          "dtype": "f4"
         },
         "y": {
          "bdata": "pPrswHf+58BZnoe/GAKowE8lPcBIHRnBCXtLQKZMc0BrmX1ARpDlwNP8PECOTRzATkx2wPnub78mwhFAZQTAv6QwQkAdOo9A6jAWQD2oKUC/NdM88I0bwen/J78A1tnADwU7vw8ovb7epErArKjGwLB0hsBn95s/3dgEwc+P6kD9iYPAn7E4v+1dnsBB+bTB0c2XQGfPHcHtfvzAT9qIwLuDokD8HCvAOMSaQHB3Lr7izXa/C/hTQBhmsL6XB3Y/zO2av7S6BkAwaV/BtZDnv/GCXcDwV+NA5cmUP6Q4fMBTqYxAutIZwMsULMAu4FC/LsmsPxhexsCk0j1A0OK/wMLeIkC/iaK/IxEYQPBBqsBKwkRAGi3ZP7S2sb90DBdAsuF3wEt3xj/wBCvAFLj9wJldREATyo7ALgNHQNq0N75C5DBAGSufQOnY9cDVMD1AplvRPxKjxMAqneY/QKInP9OFSUCM1cm9Yf7WPlAqpMBvDTE/7kaSQEzgZUCWWz9AtiM5wJhqvr6bB2Y/HY/8wFFhosCaTNq/CxfIv3ZcX8Br4t5Ah856PlbiGMH1Sx5AOp7WP71OrT9iLwJAr7tcQGApq8FmrQRAOqIQP3HAAEAWPobA0WXcvS686D+1rVrAfQIuv8qRUMBOD6Q+E1ZDwIjHE0AR07XAlxMMQToCH0BSzAvBENLZv0R5okDxNpbBlDlOQD6qysDlKTy/ZsOQQEgGFMB/jrc9KBXGP62Si8B6P8BASTQfvs1amMEM5bG/LHi1P2SX+8Arrg5AK7aVwffYK7/0eR8/2lcpwCsxRMBMpr+9a2YMwCEiHsB+e7dAf6P7P925vr5sef8/PzmuPzUNisEICwI/OLLcv/FthsB5Y22/B1uRwWpPyj+Y4qBAVy9UQKs4lkD0QPa9jzfTwA0ECz8w093BO1VgQFM2a0CKx5TA7VYOwX1t8D8wJWvAAkUjwLKF/8DLjFZAzj6zv1A9W73uiL5AdTjOv6L6H8G7xFFAWR8JQClA7j8XXxrBARFTwEGBuUDwoZVA92uJwIy/2b70KovA2sRwwH0oo0BOWYVAvt+CwOX1bsAkoIxAblRbQLmHbsAj6X5A7M5PQEy098Bwc3A/QN2IP2IY3sDGO7FAaGCLv9YXXkDqiG8/xOr3wPlYAsBGYKk/5vYKweu8+r+/lyO+ZyWGP6Pim0AMDMc/gzlpwIEHKT9yVfy/E0EuwMGGlD8gswJAw7oCwJzIpMDl66XA7kdzQIMxE8AcZjxAynxrwGzCE0BQHFlAGheuPzeBvMG8QwfAEK7PwAQ7Z0DmK0E/2c2HQNL1GECYMRTACtJowLvucsCm81XAYDrcQP0Khr9YThs+1pXAwMKP8cDcrtI/lOAswI8UEUC0cn4//9TlQK/Jn0DM+4JAtlq9v0skvD8y97m+Uaa6QHVdDD6oes6/q0ssP9BPCsFk9qDAJD65wGPmkz9BxVbA8M0GQQzelkB1Uzc/6l2Cv4uJKcE=",
          "dtype": "f4"
         }
        },
        {
         "marker": {
          "color": "rgba(227, 119, 194, 0.8)"
         },
         "mode": "markers",
         "name": "Cluster 6",
         "type": "scatter",
         "x": {
          "bdata": "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",
          "dtype": "f4"
         },
         "y": {
          "bdata": "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",
          "dtype": "f4"
         }
        },
        {
         "marker": {
          "color": "rgba(127, 127, 127, 0.8)"
         },
         "mode": "markers",
         "name": "Cluster 7",
         "type": "scatter",
         "x": {
          "bdata": "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",
          "dtype": "f4"
         },
         "y": {
          "bdata": "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",
          "dtype": "f4"
         }
        },
        {
         "marker": {
          "color": "rgba(188, 189, 34, 0.8)"
         },
         "mode": "markers",
         "name": "Cluster 8",
         "type": "scatter",
         "x": {
          "bdata": "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",
          "dtype": "f4"
         },
         "y": {
          "bdata": "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",
          "dtype": "f4"
         }
        },
        {
         "marker": {
          "color": "rgba(23, 190, 207, 0.8)"
         },
         "mode": "markers",
         "name": "Cluster 9",
         "type": "scatter",
         "x": {
          "bdata": "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",
          "dtype": "f4"
         },
         "y": {
          "bdata": "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",
          "dtype": "f4"
         }
        }
       ],
       "layout": {
        "template": {
         "data": {
          "bar": [
           {
            "error_x": {
             "color": "#2a3f5f"
            },
            "error_y": {
             "color": "#2a3f5f"
            },
            "marker": {
             "line": {
              "color": "#E5ECF6",
              "width": 0.5
             },
             "pattern": {
              "fillmode": "overlay",
              "size": 10,
              "solidity": 0.2
             }
            },
            "type": "bar"
           }
          ],
          "barpolar": [
           {
            "marker": {
             "line": {
              "color": "#E5ECF6",
              "width": 0.5
             },
             "pattern": {
              "fillmode": "overlay",
              "size": 10,
              "solidity": 0.2
             }
            },
            "type": "barpolar"
           }
          ],
          "carpet": [
           {
            "aaxis": {
             "endlinecolor": "#2a3f5f",
             "gridcolor": "white",
             "linecolor": "white",
             "minorgridcolor": "white",
             "startlinecolor": "#2a3f5f"
            },
            "baxis": {
             "endlinecolor": "#2a3f5f",
             "gridcolor": "white",
             "linecolor": "white",
             "minorgridcolor": "white",
             "startlinecolor": "#2a3f5f"
            },
            "type": "carpet"
           }
          ],
          "choropleth": [
           {
            "colorbar": {
             "outlinewidth": 0,
             "ticks": ""
            },
            "type": "choropleth"
           }
          ],
          "contour": [
           {
            "colorbar": {
             "outlinewidth": 0,
             "ticks": ""
            },
            "colorscale": [
             [
              0,
              "#0d0887"
             ],
             [
              0.1111111111111111,
              "#46039f"
             ],
             [
              0.2222222222222222,
              "#7201a8"
             ],
             [
              0.3333333333333333,
              "#9c179e"
             ],
             [
              0.4444444444444444,
              "#bd3786"
             ],
             [
              0.5555555555555556,
              "#d8576b"
             ],
             [
              0.6666666666666666,
              "#ed7953"
             ],
             [
              0.7777777777777778,
              "#fb9f3a"
             ],
             [
              0.8888888888888888,
              "#fdca26"
             ],
             [
              1,
              "#f0f921"
             ]
            ],
            "type": "contour"
           }
          ],
          "contourcarpet": [
           {
            "colorbar": {
             "outlinewidth": 0,
             "ticks": ""
            },
            "type": "contourcarpet"
           }
          ],
          "heatmap": [
           {
            "colorbar": {
             "outlinewidth": 0,
             "ticks": ""
            },
            "colorscale": [
             [
              0,
              "#0d0887"
             ],
             [
              0.1111111111111111,
              "#46039f"
             ],
             [
              0.2222222222222222,
              "#7201a8"
             ],
             [
              0.3333333333333333,
              "#9c179e"
             ],
             [
              0.4444444444444444,
              "#bd3786"
             ],
             [
              0.5555555555555556,
              "#d8576b"
             ],
             [
              0.6666666666666666,
              "#ed7953"
             ],
             [
              0.7777777777777778,
              "#fb9f3a"
             ],
             [
              0.8888888888888888,
              "#fdca26"
             ],
             [
              1,
              "#f0f921"
             ]
            ],
            "type": "heatmap"
           }
          ],
          "histogram": [
           {
            "marker": {
             "pattern": {
              "fillmode": "overlay",
              "size": 10,
              "solidity": 0.2
             }
            },
            "type": "histogram"
           }
          ],
          "histogram2d": [
           {
            "colorbar": {
             "outlinewidth": 0,
             "ticks": ""
            },
            "colorscale": [
             [
              0,
              "#0d0887"
             ],
             [
              0.1111111111111111,
              "#46039f"
             ],
             [
              0.2222222222222222,
              "#7201a8"
             ],
             [
              0.3333333333333333,
              "#9c179e"
             ],
             [
              0.4444444444444444,
              "#bd3786"
             ],
             [
              0.5555555555555556,
              "#d8576b"
             ],
             [
              0.6666666666666666,
              "#ed7953"
             ],
             [
              0.7777777777777778,
              "#fb9f3a"
             ],
             [
              0.8888888888888888,
              "#fdca26"
             ],
             [
              1,
              "#f0f921"
             ]
            ],
            "type": "histogram2d"
           }
          ],
          "histogram2dcontour": [
           {
            "colorbar": {
             "outlinewidth": 0,
             "ticks": ""
            },
            "colorscale": [
             [
              0,
              "#0d0887"
             ],
             [
              0.1111111111111111,
              "#46039f"
             ],
             [
              0.2222222222222222,
              "#7201a8"
             ],
             [
              0.3333333333333333,
              "#9c179e"
             ],
             [
              0.4444444444444444,
              "#bd3786"
             ],
             [
              0.5555555555555556,
              "#d8576b"
             ],
             [
              0.6666666666666666,
              "#ed7953"
             ],
             [
              0.7777777777777778,
              "#fb9f3a"
             ],
             [
              0.8888888888888888,
              "#fdca26"
             ],
             [
              1,
              "#f0f921"
             ]
            ],
            "type": "histogram2dcontour"
           }
          ],
          "mesh3d": [
           {
            "colorbar": {
             "outlinewidth": 0,
             "ticks": ""
            },
            "type": "mesh3d"
           }
          ],
          "parcoords": [
           {
            "line": {
             "colorbar": {
              "outlinewidth": 0,
              "ticks": ""
             }
            },
            "type": "parcoords"
           }
          ],
          "pie": [
           {
            "automargin": true,
            "type": "pie"
           }
          ],
          "scatter": [
           {
            "fillpattern": {
             "fillmode": "overlay",
             "size": 10,
             "solidity": 0.2
            },
            "type": "scatter"
           }
          ],
          "scatter3d": [
           {
            "line": {
             "colorbar": {
              "outlinewidth": 0,
              "ticks": ""
             }
            },
            "marker": {
             "colorbar": {
              "outlinewidth": 0,
              "ticks": ""
             }
            },
            "type": "scatter3d"
           }
          ],
          "scattercarpet": [
           {
            "marker": {
             "colorbar": {
              "outlinewidth": 0,
              "ticks": ""
             }
            },
            "type": "scattercarpet"
           }
          ],
          "scattergeo": [
           {
            "marker": {
             "colorbar": {
              "outlinewidth": 0,
              "ticks": ""
             }
            },
            "type": "scattergeo"
           }
          ],
          "scattergl": [
           {
            "marker": {
             "colorbar": {
              "outlinewidth": 0,
              "ticks": ""
             }
            },
            "type": "scattergl"
           }
          ],
          "scattermap": [
           {
            "marker": {
             "colorbar": {
              "outlinewidth": 0,
              "ticks": ""
             }
            },
            "type": "scattermap"
           }
          ],
          "scattermapbox": [
           {
            "marker": {
             "colorbar": {
              "outlinewidth": 0,
              "ticks": ""
             }
            },
            "type": "scattermapbox"
           }
          ],
          "scatterpolar": [
           {
            "marker": {
             "colorbar": {
              "outlinewidth": 0,
              "ticks": ""
             }
            },
            "type": "scatterpolar"
           }
          ],
          "scatterpolargl": [
           {
            "marker": {
             "colorbar": {
              "outlinewidth": 0,
              "ticks": ""
             }
            },
            "type": "scatterpolargl"
           }
          ],
          "scatterternary": [
           {
            "marker": {
             "colorbar": {
              "outlinewidth": 0,
              "ticks": ""
             }
            },
            "type": "scatterternary"
           }
          ],
          "surface": [
           {
            "colorbar": {
             "outlinewidth": 0,
             "ticks": ""
            },
            "colorscale": [
             [
              0,
              "#0d0887"
             ],
             [
              0.1111111111111111,
              "#46039f"
             ],
             [
              0.2222222222222222,
              "#7201a8"
             ],
             [
              0.3333333333333333,
              "#9c179e"
             ],
             [
              0.4444444444444444,
              "#bd3786"
             ],
             [
              0.5555555555555556,
              "#d8576b"
             ],
             [
              0.6666666666666666,
              "#ed7953"
             ],
             [
              0.7777777777777778,
              "#fb9f3a"
             ],
             [
              0.8888888888888888,
              "#fdca26"
             ],
             [
              1,
              "#f0f921"
             ]
            ],
            "type": "surface"
           }
          ],
          "table": [
           {
            "cells": {
             "fill": {
              "color": "#EBF0F8"
             },
             "line": {
              "color": "white"
             }
            },
            "header": {
             "fill": {
              "color": "#C8D4E3"
             },
             "line": {
              "color": "white"
             }
            },
            "type": "table"
           }
          ]
         },
         "layout": {
          "annotationdefaults": {
           "arrowcolor": "#2a3f5f",
           "arrowhead": 0,
           "arrowwidth": 1
          },
          "autotypenumbers": "strict",
          "coloraxis": {
           "colorbar": {
            "outlinewidth": 0,
            "ticks": ""
           }
          },
          "colorscale": {
           "diverging": [
            [
             0,
             "#8e0152"
            ],
            [
             0.1,
             "#c51b7d"
            ],
            [
             0.2,
             "#de77ae"
            ],
            [
             0.3,
             "#f1b6da"
            ],
            [
             0.4,
             "#fde0ef"
            ],
            [
             0.5,
             "#f7f7f7"
            ],
            [
             0.6,
             "#e6f5d0"
            ],
            [
             0.7,
             "#b8e186"
            ],
            [
             0.8,
             "#7fbc41"
            ],
            [
             0.9,
             "#4d9221"
            ],
            [
             1,
             "#276419"
            ]
           ],
           "sequential": [
            [
             0,
             "#0d0887"
            ],
            [
             0.1111111111111111,
             "#46039f"
            ],
            [
             0.2222222222222222,
             "#7201a8"
            ],
            [
             0.3333333333333333,
             "#9c179e"
            ],
            [
             0.4444444444444444,
             "#bd3786"
            ],
            [
             0.5555555555555556,
             "#d8576b"
            ],
            [
             0.6666666666666666,
             "#ed7953"
            ],
            [
             0.7777777777777778,
             "#fb9f3a"
            ],
            [
             0.8888888888888888,
             "#fdca26"
            ],
            [
             1,
             "#f0f921"
            ]
           ],
           "sequentialminus": [
            [
             0,
             "#0d0887"
            ],
            [
             0.1111111111111111,
             "#46039f"
            ],
            [
             0.2222222222222222,
             "#7201a8"
            ],
            [
             0.3333333333333333,
             "#9c179e"
            ],
            [
             0.4444444444444444,
             "#bd3786"
            ],
            [
             0.5555555555555556,
             "#d8576b"
            ],
            [
             0.6666666666666666,
             "#ed7953"
            ],
            [
             0.7777777777777778,
             "#fb9f3a"
            ],
            [
             0.8888888888888888,
             "#fdca26"
            ],
            [
             1,
             "#f0f921"
            ]
           ]
          },
          "colorway": [
           "#636efa",
           "#EF553B",
           "#00cc96",
           "#ab63fa",
           "#FFA15A",
           "#19d3f3",
           "#FF6692",
           "#B6E880",
           "#FF97FF",
           "#FECB52"
          ],
          "font": {
           "color": "#2a3f5f"
          },
          "geo": {
           "bgcolor": "white",
           "lakecolor": "white",
           "landcolor": "#E5ECF6",
           "showlakes": true,
           "showland": true,
           "subunitcolor": "white"
          },
          "hoverlabel": {
           "align": "left"
          },
          "hovermode": "closest",
          "mapbox": {
           "style": "light"
          },
          "paper_bgcolor": "white",
          "plot_bgcolor": "#E5ECF6",
          "polar": {
           "angularaxis": {
            "gridcolor": "white",
            "linecolor": "white",
            "ticks": ""
           },
           "bgcolor": "#E5ECF6",
           "radialaxis": {
            "gridcolor": "white",
            "linecolor": "white",
            "ticks": ""
           }
          },
          "scene": {
           "xaxis": {
            "backgroundcolor": "#E5ECF6",
            "gridcolor": "white",
            "gridwidth": 2,
            "linecolor": "white",
            "showbackground": true,
            "ticks": "",
            "zerolinecolor": "white"
           },
           "yaxis": {
            "backgroundcolor": "#E5ECF6",
            "gridcolor": "white",
            "gridwidth": 2,
            "linecolor": "white",
            "showbackground": true,
            "ticks": "",
            "zerolinecolor": "white"
           },
           "zaxis": {
            "backgroundcolor": "#E5ECF6",
            "gridcolor": "white",
            "gridwidth": 2,
            "linecolor": "white",
            "showbackground": true,
            "ticks": "",
            "zerolinecolor": "white"
           }
          },
          "shapedefaults": {
           "line": {
            "color": "#2a3f5f"
           }
          },
          "ternary": {
           "aaxis": {
            "gridcolor": "white",
            "linecolor": "white",
            "ticks": ""
           },
           "baxis": {
            "gridcolor": "white",
            "linecolor": "white",
            "ticks": ""
           },
           "bgcolor": "#E5ECF6",
           "caxis": {
            "gridcolor": "white",
            "linecolor": "white",
            "ticks": ""
           }
          },
          "title": {
           "x": 0.05
          },
          "xaxis": {
           "automargin": true,
           "gridcolor": "white",
           "linecolor": "white",
           "ticks": "",
           "title": {
            "standoff": 15
           },
           "zerolinecolor": "white",
           "zerolinewidth": 2
          },
          "yaxis": {
           "automargin": true,
           "gridcolor": "white",
           "linecolor": "white",
           "ticks": "",
           "title": {
            "standoff": 15
           },
           "zerolinecolor": "white",
           "zerolinewidth": 2
          }
         }
        },
        "title": {
         "text": "K-means on Features in 2D Using T-SNE (perplexity=50)"
        },
        "xaxis": {
         "ticklen": 5,
         "title": {
          "text": "TC1"
         },
         "zeroline": false
        },
        "yaxis": {
         "ticklen": 5,
         "title": {
          "text": "TC2"
         },
         "zeroline": false
        }
       }
      }
     },
     "metadata": {},
     "output_type": "display_data"
    }
   ],
   "source": [
    "# trace1 is for 'Cluster 0'\n",
    "trace1 = go.Scatter(\n",
    "                    x = cluster0[\"TC1_2d\"],\n",
    "                    y = cluster0[\"TC2_2d\"],\n",
    "                    mode = \"markers\",\n",
    "                    name = \"Cluster 0\",\n",
    "                    marker = dict(color = 'rgba(31, 119, 180, 0.8)'),\n",
    "                    text = None)\n",
    "\n",
    "# trace2 is for 'Cluster 1'\n",
    "trace2 = go.Scatter(\n",
    "                    x = cluster1[\"TC1_2d\"],\n",
    "                    y = cluster1[\"TC2_2d\"],\n",
    "                    mode = \"markers\",\n",
    "                    name = \"Cluster 1\",\n",
    "                    marker = dict(color = 'rgba(255, 127, 14, 0.8)'),\n",
    "                    text = None)\n",
    "\n",
    "# trace3 is for 'Cluster 2'\n",
    "trace3 = go.Scatter(\n",
    "                    x = cluster2[\"TC1_2d\"],\n",
    "                    y = cluster2[\"TC2_2d\"],\n",
    "                    mode = \"markers\",\n",
    "                    name = \"Cluster 2\",\n",
    "                    marker = dict(color = 'rgba(44, 160, 44, 0.8)'),\n",
    "                    text = None)\n",
    "\n",
    "# trace4 is for 'Cluster 3'\n",
    "trace4 = go.Scatter(\n",
    "                    x = cluster3[\"TC1_2d\"],\n",
    "                    y = cluster3[\"TC2_2d\"],\n",
    "                    mode = \"markers\",\n",
    "                    name = \"Cluster 3\",\n",
    "                    marker = dict(color = 'rgba(214, 39, 40, 0.8)'),\n",
    "                    text = None)\n",
    "\n",
    "# trace5 is for 'Cluster 4'\n",
    "trace5 = go.Scatter(\n",
    "                    x = cluster4[\"TC1_2d\"],\n",
    "                    y = cluster4[\"TC2_2d\"],\n",
    "                    mode = \"markers\",\n",
    "                    name = \"Cluster 4\",\n",
    "                    marker = dict(color = 'rgba(148, 103, 189, 0.8)'),\n",
    "                    text = None)\n",
    "\n",
    "# trace6 is for 'Cluster 5'\n",
    "trace6 = go.Scatter(\n",
    "                    x = cluster5[\"TC1_2d\"],\n",
    "                    y = cluster5[\"TC2_2d\"],\n",
    "                    mode = \"markers\",\n",
    "                    name = \"Cluster 5\",\n",
    "                    marker = dict(color = 'rgba(140, 86, 75, 0.8)'),\n",
    "                    text = None)\n",
    "\n",
    "# trace7 is for 'Cluster 6'\n",
    "trace7 = go.Scatter(\n",
    "                    x = cluster6[\"TC1_2d\"],\n",
    "                    y = cluster6[\"TC2_2d\"],\n",
    "                    mode = \"markers\",\n",
    "                    name = \"Cluster 6\",\n",
    "                    marker = dict(color = 'rgba(227, 119, 194, 0.8)'),\n",
    "                    text = None)\n",
    "\n",
    "# trace8 is for 'Cluster 7'\n",
    "trace8 = go.Scatter(\n",
    "                    x = cluster7[\"TC1_2d\"],\n",
    "                    y = cluster7[\"TC2_2d\"],\n",
    "                    mode = \"markers\",\n",
    "                    name = \"Cluster 7\",\n",
    "                    marker = dict(color = 'rgba(127, 127, 127, 0.8)'),\n",
    "                    text = None)\n",
    "\n",
    "# trace9 is for 'Cluster 8'\n",
    "trace9 = go.Scatter(\n",
    "                    x = cluster8[\"TC1_2d\"],\n",
    "                    y = cluster8[\"TC2_2d\"],\n",
    "                    mode = \"markers\",\n",
    "                    name = \"Cluster 8\",\n",
    "                    marker = dict(color = 'rgba(188, 189, 34, 0.8)'),\n",
    "                    text = None)\n",
    "\n",
    "# trace10 is for 'Cluster 9'\n",
    "trace10 = go.Scatter(\n",
    "                    x = cluster9[\"TC1_2d\"],\n",
    "                    y = cluster9[\"TC2_2d\"],\n",
    "                    mode = \"markers\",\n",
    "                    name = \"Cluster 9\",\n",
    "                    marker = dict(color = 'rgba(23, 190, 207, 0.8)'),\n",
    "                    text = None)\n",
    "\n",
    "data = [trace1, trace2, trace3,\n",
    "        trace4, trace5, trace6,\n",
    "        trace7, trace8, trace9,\n",
    "        trace10]\n",
    "\n",
    "title = \"K-means on Features in 2D Using T-SNE (perplexity=\" + str(perplexity) + \")\"\n",
    "\n",
    "layout = dict(title = title,\n",
    "              xaxis= dict(title= 'TC1',ticklen= 5,zeroline= False),\n",
    "              yaxis= dict(title= 'TC2',ticklen= 5,zeroline= False)\n",
    "             )\n",
    "\n",
    "fig = dict(data = data, layout = layout)\n",
    "\n",
    "iplot(fig)"
   ]
  },
  {
   "cell_type": "markdown",
   "metadata": {},
   "source": [
    "# T-SNE Labels Plot \n",
    "Plot K-means clusters but colour code them according to their training data labels. "
   ]
  },
  {
   "cell_type": "code",
   "execution_count": 14,
   "metadata": {},
   "outputs": [
    {
     "data": {
      "application/vnd.plotly.v1+json": {
       "config": {
        "linkText": "Export to plot.ly",
        "plotlyServerURL": "https://plot.ly",
        "showLink": false
       },
       "data": [
        {
         "marker": {
          "color": "rgba(31, 119, 180, 0.8)"
         },
         "mode": "markers",
         "name": "Airplane",
         "type": "scatter",
         "x": {
          "bdata": "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",
          "dtype": "f4"
         },
         "y": {
          "bdata": "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",
          "dtype": "f4"
         }
        },
        {
         "marker": {
          "color": "rgba(255, 127, 14, 0.8)"
         },
         "mode": "markers",
         "name": "Automobile",
         "type": "scatter",
         "x": {
          "bdata": "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",
          "dtype": "f4"
         },
         "y": {
          "bdata": "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",
          "dtype": "f4"
         }
        },
        {
         "marker": {
          "color": "rgba(44, 160, 44, 0.8)"
         },
         "mode": "markers",
         "name": "Bird",
         "type": "scatter",
         "x": {
          "bdata": "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",
          "dtype": "f4"
         },
         "y": {
          "bdata": "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",
          "dtype": "f4"
         }
        },
        {
         "marker": {
          "color": "rgba(214, 39, 40, 0.8)"
         },
         "mode": "markers",
         "name": "Cat",
         "type": "scatter",
         "x": {
          "bdata": "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",
          "dtype": "f4"
         },
         "y": {
          "bdata": "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",
          "dtype": "f4"
         }
        },
        {
         "marker": {
          "color": "rgba(148, 103, 189, 0.8)"
         },
         "mode": "markers",
         "name": "Deer",
         "type": "scatter",
         "x": {
          "bdata": "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",
          "dtype": "f4"
         },
         "y": {
          "bdata": "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",
          "dtype": "f4"
         }
        },
        {
         "marker": {
          "color": "rgba(140, 86, 75, 0.8)"
         },
         "mode": "markers",
         "name": "Dog",
         "type": "scatter",
         "x": {
          "bdata": "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",
          "dtype": "f4"
         },
         "y": {
          "bdata": "nEiqwZwSNkDk8p3BgjMZwbcrRUG05/7BjlSFwT1NgcHlVyzBBeQ4wTuu6cF4UTrB8gINQQKd/cHz6vrBYFD1wYtAxsH4v5LAWTr7wWG3FMLQCsPB2PEGwUsw0MFUR4q/siTKQPspbcGXp+fB5BjYwarvmsEdJuDB8x9GwOYY8sGkCAfC8EvHwcTw88EORjLB7h8BwjbD+cG9iLbBk7gDwq6eMsESXco/zrhMwVA63MG2syjA9ytkwW9HUcHqborB/r+VwTZ0f8FW19zBEHHiwXIxp8AwCpbACmnVwYSRK8FMTX7BtdsGwmKPAsLgNFfAp86GQYN4EME7HsPBUP1Rv/+f4cHDefBBqG/3wQDuPMFuiITB/HORwKQet0F0SbzBP0rMwU/1o0E8EUPAN6W4Ps7Ox8HmAILB4Je8wMuOAMIusfzBfON9wdSaAcI55Q7B5gw4wdrFQkGl9wnCNgP/waSzwcE3uk3Bd7mJwEyCDMJadZnBkXADwGQy2cCK7I7BfSFNQaIKBMHM6wpAzFeewA8xS8H4Jxi/GY9jwUreyMHBPAbCMozMwUKZ9cHU3Y/BBiXzwQkFhUEkLknB3mg9wZisasEtuIHB6WPqwdMgp8EC+o0/Ir0MQNpxPcEkAIrBIUTKwFlArMFGPDBAzvqRQWWAz8HvKJNAnyrnwRYAVkGaXorBACaawS8HpsFeJDXBE7DOweDoBcIi7ii/+rYOwELxysH/pwVBy3AEwvSZOcGzk8ZARPgHwXp/OEHkmwLCY15wQQxw3sG8xktBspceweGx+8GuKc/ByfT+Po7fWkEpLYzB5boxwRpADMJ52Q/CDXs5wfEzsMHMcvHBC24DQjvn1sG08NnBAAq5wfun9sCcARDCIk6iwFIWi8Gf7PfBcVgKwkGZFMJt5PnAiPMmwbVMJcHkW8zBP/MXwZHSo8EOLhTBEgkSwZ/jQkGpkprB6WnrwaZsCcG7QUXB2RguQBNf1sFxmMjBllGRwZJSAsKJitPB9/75wVNJEMEHPxBCWWfUQUkNnMEeWPHBmmDCwVtm5kBPxvJAkN6DwZHYV8Ckh//B8OG1wci2+MFlAATCU+jWwUe3oMHb7cvBRF3+wI9/4sEyXhnByWe8waKfgMH6cO7B96WFQTfpwsD+vrXBgD3ZwW6V9sFvQFDBkEyOwco/acGM3QrCKv3uwakgPsFOB7zB0RePwNuc+8HncHfB+PGvwLWoAcLn98vA5mWkQOOigj7IJEvBtCx9wOzh0sB3j9jBke8IwoLdh8CXMJ7APqrKwJm68MA6Nh++ZrfuwcC/EsF2ri3BKSqfwd1HrcEKmYDBKpcWwewsJ8F7dPTBKCABwfaAvEEW1NXA10H/wKvfBsEOyfnBcmdnwVym08AWLavAtKa/wQidOcGJUezBzQM5QN4H3MH2bs/AinTtwctCHUHE4ENBD9Y7wAzlHMBUkuHBuD1iwPCiEsExtAPCw+IFwmyVRMFRedPBUpxUQNnoAsHhyOvBvjAewRqG9EE8RiHBomZUwRr1scGqHPPAbDRIP6JFSMFmSP7BE68dwO12zMG4/ozB6aXJQYyh/MArRTzBnHsDwm/u6sFDeqzAUlYswWOQw0ChuKrBhW/YwdyGpsGU3ytAZPvZwcFYucG4ffXAMxAwwcEgYsHTFATB5yciwQn858GiuDrB471HQcDPo8GQRZPB/n6fwa8vmL8pFrvB3GpiwQUiqcHFzd/A9YaiwdvSmcEaQQbCdEgQwaXxV8FTccnBpMpuPifjOsEgx5jBUCdOQX5eP75OY8rBCX7iwSCeCsK5guHB+2IMwRZeXMFvyoJBL7XXwL+e/EC0RPDBsnmRwY+YrMGf3+a/tmg1wHUMqsH4l3lBFiqkPsMbXMCgUX3B3DxWwbNj7cGT2h/BkNzNQUXHA8JKTabBseQ2QUO22cG2Po/B/Vi5wa3GA8IIyYlBC0XbwVDLkcC6bADC9LehwTeny8Hp+jTA0GyJwYr03MEnGaFBXui/wcrFgsF0m2BB2CsCwpYu+sFkZIHAL6sOwhU3qMFOn87BXBivwNcR1cFc/tvBTqEEQHKg3cCjPaXBTOSMP37A/cH1WQLCsQHOwc9PIcHILVHBj583wV1Yy8HmMV7BYAm3wcoWu8Hn6rTAffLdwG7WBsLDSebBJluuwa66lsFj3nfBu+Tcwf0c68HEW3nBERcPQdxRmsHPhT7BXSmbwerf9cF15AbBR+rswc6+sMDUhADCDx+AwNLph8G5RJrBSCIJwmPhgkGujJHBJYRLP3snJ0E3wWHBAFQsweuHBMH+ccTBT7i+wTPljsHk3QjBl8z3wL5Zsz+sSkzBEv6BQb/J3EA+YLPBk3RzQQoVDMI54PDB0jFVwQDPTUHnW/vBT1KzQSU8+cFzKZBA9pw1wQwVscHkmiFBn8ejwUCynMEPL1LBtuoBwv+XlsA3BMHB8xcFwnKf4sFZxkw/GoLLv5fdlsB4dWLBe9HmwWbMssALtPPBzrEtwdTbiMHvoGDBfWy6QSYi28F6oQpBYTWWwUv61cG7mbzAcmPTwaEl68Hba9fBrCPawSzt08H6GrVBR6dEwX+3C8KgVE7BSZ9cQQGGocHTAJTBoI9twWjqj8BMdenB",
          "dtype": "f4"
         }
        },
        {
         "marker": {
          "color": "rgba(227, 119, 194, 0.8)"
         },
         "mode": "markers",
         "name": "Frog",
         "type": "scatter",
         "x": {
          "bdata": "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",
          "dtype": "f4"
         },
         "y": {
          "bdata": "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",
          "dtype": "f4"
         }
        },
        {
         "marker": {
          "color": "rgba(127, 127, 127, 0.8)"
         },
         "mode": "markers",
         "name": "Horse",
         "type": "scatter",
         "x": {
          "bdata": "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",
          "dtype": "f4"
         },
         "y": {
          "bdata": "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",
          "dtype": "f4"
         }
        },
        {
         "marker": {
          "color": "rgba(188, 189, 34, 0.8)"
         },
         "mode": "markers",
         "name": "Ship",
         "type": "scatter",
         "x": {
          "bdata": "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",
          "dtype": "f4"
         },
         "y": {
          "bdata": "P1rpQKu4tsA6IJfBcm2PwXSqOcD1Kck+yzopwP79JMFi8SzBPIYJwRT6WMDbIyS/h21awAAqnMDvYbXAhcl7wZTfdMFhhoDAdWs3wbYPasHNORvBLiOiwOfTqUB2LYvBx5d6wevhfb5vVQQ+bRYfQVbUA8E5IanAwBQYwRcDqMEUmtI/qB4lwSVFLcEMwPy/zp6rwKqsz78/El7AQKt8wcx9lcFCDhfBjfmEwBZAMMF9wTjACvZfwASyYcFhxwFBRoAlv++G8T/Jnd3AFwmEwbhM6kCNHYbAOeSSvr1gicEx+ClAG7/VwMiBhb0Ni3TBwvQiwGJ+oT5nkerA4p8fwaVOCsEnIKHADpSIv6LoDkBk2xzAWkVYQDhHfr+BLRJAWYjbwH0IUcA72NnAOU6WwKN3YL8gcATBi1Iiv26nx79i4R/B5A9bwPM9VcHVS6DBz2ceQLMmnD/Vq6m/SlxkwEEMh8GB9IfB5CuawT5n0r/oBRhBIgZ1wc0MKsAUkxbAVn4xwbejAT7xwtJAB723wABiKMDNliFAPal0P0vejsFA8RDBixgnwTcnR8DeTZ/A9UubwbTia0EKSFpAbDWawS1FXUCRHrfAaVKXwFNM3cCKKAzAeBHNwFKHb78zDa/AmZq1wFSB2sAp54/B/txMwDcq28AqQ3LAeEcPPuP38MBCqcTAQukRwTM5yb/KL5LADGCkwCpVRMGPlmLB0OcjwZKmHsBHVAXBvWmBwciTd8Ab0U/BDFdTwacNC8A9umhBUkfmwAImrMA5AW/BThCJwKzAD0FhQ1Y/xKoZwDFVdMHlbCjB0hxYwPhwLsGtiz7BeiZgwP6srsB8J6DBlbekwCsUlMHmkxnBDu1TwW4PHkHyla8/X1YxwC6DOcG50AvBdSM2wRUjKMG0jP3AHAFRvnHLk8EGkKrBSEtov9IJkz/CIou/qgKFwEEZlEH+ON3A2gZqvwA7jMGxZWPA0rwHPkI3K8Dp1hfBMlFywT45ssDqpqrAEAwawH+Ij8EC8XPBpUCOQNG5DMAQC9bACcB3wXepaD99uVjB9E2EwECQpr91rbnArwsDwWhLAMEq/A/AiTrNwO9G08COF6bB9qhAwcr+B8FFvGG9zX9CvvMC1b+K/4rAiWUXwdiFWsDGIqjBmJROwe5FeMFiAs+/AgeSQOsrpsFopIXADOBMwLSPPsEzT5PBBIgfwFl+gsBx2s+/nfoewVy54r+mcozB4nGCv1Ljo8BgKavB1KhmwRSYFj9LYmdAc9lZQfjxUcB+wtjAC3eSQbheT8F6UUHAuDsFwDEaY8GRt7C/XN7twHJW1MDch4nBbmnowFDXjsFgtFzBLQ3pwERwCkC4/VLBICWHwPLfpr+JhCLAUBpbQRdTjsHxNpbBdT7WwHVPN8FTOMfAeBW8v5Do0cCV+EvAoTsHQM6ODsF9oUfBMJbpwO9qNsFQ31BAaiHbvyj5n8DXd4a/ErdMwXLNTUCrJIjB75BwwcxDT8HRDo8/xg+PwUF01cAxKfU9Z6OawRu5c8D2S5I/t3Q1wIm/LMEcNYvBwy4AP7EFr8C3giXBjdV7QJYEz8AQI8S/hM95wHwCDkF5Y2vAVfUiwRqhCMFlPRBAbRpfP/gu0MCBg74/OX8wwTS6Z8Hu3FtBak9lwddJ1cD2Lnu/SWeoP6ijVMF0irHAxHSVwZECBUD9w4DAm0MUwadVmsArBQS/bLNkwWB3R8ApUh/BNP/swK3r9MC6EAbBoLBjwcUiwb89PijBKCgHwfcCs8AKAt6/rZWSPo6qTcD5flO/Z0joPwHC6sCRAL3AXf0YwaVtlcHxnKu/rQUqwD5ncME0uNLA1xyKwSFXyr8akxLBh7nwvw7K58CX1D/Akcrev9F4yz8ZMWHADcoGwM4GZ0E44CzAHFHqv0sXp8BM/qzAejSGwT69r8DpNabA7CUMwRXHgMGrshrALN8iwFbz9kCHQ+BAtaQZQO6HTMFlHPm+U1n1wMBGDcHA1NTAu8uUwOK+/8CZW0nBBUyQwY7/zsDtdSbAnX2vwDIk38CrKSHBr/n3vn4bpMA8OgDBM7wAQGkLYr8LSsS/NqEIwSCcXcH8y0DB4OqEwYSbgcBXCWrBgzdWwaFswsBSLPq/mOpdQasBEcHT+IHBioBDweL0JcHBEhpB63kgwJOPJUFMiZPB3zxQwH3ZOsGuW7zA0fJDwQZ1LMGHIGHBsuQZwIiOBcFz5cXA0HwdQdvYfMBBkDrBquNUQYXzfMCrymC/jBESwbAgbMAGiCFAxkeTwWlHncAqkuHAJ9xNwd/ufsHhfJI/jryowB5xg0EXUw3BMiKXP61PaMGA/vG/uxWkwN+tE7/yoZzBoFgMweYHcMFfEIrA5eCqwJg/KsEwA0XBr4S0wKqh8MCCMSTBV0ovwQUtvcCb3h3BKUQdwaDShMHPyoTA/RJ9wDqD1cDfVoDAbioAwCd8zMCrNULBWyNNwD1JksGiVFa/SF7Yv5r9dD/HHWPBjMyAwebQIMEDPlPBKv2MwACjxr+D1V7B8TFgwH4wgMFuNfPAjXA9QHwgWcFpGFZBVdrMwBNHUcBpdxrBHnLevxNOIcF07eLAxO5OwKnttUC5KYbBVni/wGiXPsEDHYLBHyxoQKe54cBFsxLBz6WGwGR8kkGlWF6/wlAqwD0uyMBQGU4+mb7EvTpTsMCRf47AvhqfwIGkWcAU8zLAzDmuwHa19j4up4HArV3/wPYNl8Hd5Ry/WQ6VwQ==",
          "dtype": "f4"
         }
        },
        {
         "marker": {
          "color": "rgba(23, 190, 207, 0.8)"
         },
         "mode": "markers",
         "name": "Truck",
         "type": "scatter",
         "x": {
          "bdata": "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",
          "dtype": "f4"
         },
         "y": {
          "bdata": "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",
          "dtype": "f4"
         }
        }
       ],
       "layout": {
        "template": {
         "data": {
          "bar": [
           {
            "error_x": {
             "color": "#2a3f5f"
            },
            "error_y": {
             "color": "#2a3f5f"
            },
            "marker": {
             "line": {
              "color": "#E5ECF6",
              "width": 0.5
             },
             "pattern": {
              "fillmode": "overlay",
              "size": 10,
              "solidity": 0.2
             }
            },
            "type": "bar"
           }
          ],
          "barpolar": [
           {
            "marker": {
             "line": {
              "color": "#E5ECF6",
              "width": 0.5
             },
             "pattern": {
              "fillmode": "overlay",
              "size": 10,
              "solidity": 0.2
             }
            },
            "type": "barpolar"
           }
          ],
          "carpet": [
           {
            "aaxis": {
             "endlinecolor": "#2a3f5f",
             "gridcolor": "white",
             "linecolor": "white",
             "minorgridcolor": "white",
             "startlinecolor": "#2a3f5f"
            },
            "baxis": {
             "endlinecolor": "#2a3f5f",
             "gridcolor": "white",
             "linecolor": "white",
             "minorgridcolor": "white",
             "startlinecolor": "#2a3f5f"
            },
            "type": "carpet"
           }
          ],
          "choropleth": [
           {
            "colorbar": {
             "outlinewidth": 0,
             "ticks": ""
            },
            "type": "choropleth"
           }
          ],
          "contour": [
           {
            "colorbar": {
             "outlinewidth": 0,
             "ticks": ""
            },
            "colorscale": [
             [
              0,
              "#0d0887"
             ],
             [
              0.1111111111111111,
              "#46039f"
             ],
             [
              0.2222222222222222,
              "#7201a8"
             ],
             [
              0.3333333333333333,
              "#9c179e"
             ],
             [
              0.4444444444444444,
              "#bd3786"
             ],
             [
              0.5555555555555556,
              "#d8576b"
             ],
             [
              0.6666666666666666,
              "#ed7953"
             ],
             [
              0.7777777777777778,
              "#fb9f3a"
             ],
             [
              0.8888888888888888,
              "#fdca26"
             ],
             [
              1,
              "#f0f921"
             ]
            ],
            "type": "contour"
           }
          ],
          "contourcarpet": [
           {
            "colorbar": {
             "outlinewidth": 0,
             "ticks": ""
            },
            "type": "contourcarpet"
           }
          ],
          "heatmap": [
           {
            "colorbar": {
             "outlinewidth": 0,
             "ticks": ""
            },
            "colorscale": [
             [
              0,
              "#0d0887"
             ],
             [
              0.1111111111111111,
              "#46039f"
             ],
             [
              0.2222222222222222,
              "#7201a8"
             ],
             [
              0.3333333333333333,
              "#9c179e"
             ],
             [
              0.4444444444444444,
              "#bd3786"
             ],
             [
              0.5555555555555556,
              "#d8576b"
             ],
             [
              0.6666666666666666,
              "#ed7953"
             ],
             [
              0.7777777777777778,
              "#fb9f3a"
             ],
             [
              0.8888888888888888,
              "#fdca26"
             ],
             [
              1,
              "#f0f921"
             ]
            ],
            "type": "heatmap"
           }
          ],
          "histogram": [
           {
            "marker": {
             "pattern": {
              "fillmode": "overlay",
              "size": 10,
              "solidity": 0.2
             }
            },
            "type": "histogram"
           }
          ],
          "histogram2d": [
           {
            "colorbar": {
             "outlinewidth": 0,
             "ticks": ""
            },
            "colorscale": [
             [
              0,
              "#0d0887"
             ],
             [
              0.1111111111111111,
              "#46039f"
             ],
             [
              0.2222222222222222,
              "#7201a8"
             ],
             [
              0.3333333333333333,
              "#9c179e"
             ],
             [
              0.4444444444444444,
              "#bd3786"
             ],
             [
              0.5555555555555556,
              "#d8576b"
             ],
             [
              0.6666666666666666,
              "#ed7953"
             ],
             [
              0.7777777777777778,
              "#fb9f3a"
             ],
             [
              0.8888888888888888,
              "#fdca26"
             ],
             [
              1,
              "#f0f921"
             ]
            ],
            "type": "histogram2d"
           }
          ],
          "histogram2dcontour": [
           {
            "colorbar": {
             "outlinewidth": 0,
             "ticks": ""
            },
            "colorscale": [
             [
              0,
              "#0d0887"
             ],
             [
              0.1111111111111111,
              "#46039f"
             ],
             [
              0.2222222222222222,
              "#7201a8"
             ],
             [
              0.3333333333333333,
              "#9c179e"
             ],
             [
              0.4444444444444444,
              "#bd3786"
             ],
             [
              0.5555555555555556,
              "#d8576b"
             ],
             [
              0.6666666666666666,
              "#ed7953"
             ],
             [
              0.7777777777777778,
              "#fb9f3a"
             ],
             [
              0.8888888888888888,
              "#fdca26"
             ],
             [
              1,
              "#f0f921"
             ]
            ],
            "type": "histogram2dcontour"
           }
          ],
          "mesh3d": [
           {
            "colorbar": {
             "outlinewidth": 0,
             "ticks": ""
            },
            "type": "mesh3d"
           }
          ],
          "parcoords": [
           {
            "line": {
             "colorbar": {
              "outlinewidth": 0,
              "ticks": ""
             }
            },
            "type": "parcoords"
           }
          ],
          "pie": [
           {
            "automargin": true,
            "type": "pie"
           }
          ],
          "scatter": [
           {
            "fillpattern": {
             "fillmode": "overlay",
             "size": 10,
             "solidity": 0.2
            },
            "type": "scatter"
           }
          ],
          "scatter3d": [
           {
            "line": {
             "colorbar": {
              "outlinewidth": 0,
              "ticks": ""
             }
            },
            "marker": {
             "colorbar": {
              "outlinewidth": 0,
              "ticks": ""
             }
            },
            "type": "scatter3d"
           }
          ],
          "scattercarpet": [
           {
            "marker": {
             "colorbar": {
              "outlinewidth": 0,
              "ticks": ""
             }
            },
            "type": "scattercarpet"
           }
          ],
          "scattergeo": [
           {
            "marker": {
             "colorbar": {
              "outlinewidth": 0,
              "ticks": ""
             }
            },
            "type": "scattergeo"
           }
          ],
          "scattergl": [
           {
            "marker": {
             "colorbar": {
              "outlinewidth": 0,
              "ticks": ""
             }
            },
            "type": "scattergl"
           }
          ],
          "scattermap": [
           {
            "marker": {
             "colorbar": {
              "outlinewidth": 0,
              "ticks": ""
             }
            },
            "type": "scattermap"
           }
          ],
          "scattermapbox": [
           {
            "marker": {
             "colorbar": {
              "outlinewidth": 0,
              "ticks": ""
             }
            },
            "type": "scattermapbox"
           }
          ],
          "scatterpolar": [
           {
            "marker": {
             "colorbar": {
              "outlinewidth": 0,
              "ticks": ""
             }
            },
            "type": "scatterpolar"
           }
          ],
          "scatterpolargl": [
           {
            "marker": {
             "colorbar": {
              "outlinewidth": 0,
              "ticks": ""
             }
            },
            "type": "scatterpolargl"
           }
          ],
          "scatterternary": [
           {
            "marker": {
             "colorbar": {
              "outlinewidth": 0,
              "ticks": ""
             }
            },
            "type": "scatterternary"
           }
          ],
          "surface": [
           {
            "colorbar": {
             "outlinewidth": 0,
             "ticks": ""
            },
            "colorscale": [
             [
              0,
              "#0d0887"
             ],
             [
              0.1111111111111111,
              "#46039f"
             ],
             [
              0.2222222222222222,
              "#7201a8"
             ],
             [
              0.3333333333333333,
              "#9c179e"
             ],
             [
              0.4444444444444444,
              "#bd3786"
             ],
             [
              0.5555555555555556,
              "#d8576b"
             ],
             [
              0.6666666666666666,
              "#ed7953"
             ],
             [
              0.7777777777777778,
              "#fb9f3a"
             ],
             [
              0.8888888888888888,
              "#fdca26"
             ],
             [
              1,
              "#f0f921"
             ]
            ],
            "type": "surface"
           }
          ],
          "table": [
           {
            "cells": {
             "fill": {
              "color": "#EBF0F8"
             },
             "line": {
              "color": "white"
             }
            },
            "header": {
             "fill": {
              "color": "#C8D4E3"
             },
             "line": {
              "color": "white"
             }
            },
            "type": "table"
           }
          ]
         },
         "layout": {
          "annotationdefaults": {
           "arrowcolor": "#2a3f5f",
           "arrowhead": 0,
           "arrowwidth": 1
          },
          "autotypenumbers": "strict",
          "coloraxis": {
           "colorbar": {
            "outlinewidth": 0,
            "ticks": ""
           }
          },
          "colorscale": {
           "diverging": [
            [
             0,
             "#8e0152"
            ],
            [
             0.1,
             "#c51b7d"
            ],
            [
             0.2,
             "#de77ae"
            ],
            [
             0.3,
             "#f1b6da"
            ],
            [
             0.4,
             "#fde0ef"
            ],
            [
             0.5,
             "#f7f7f7"
            ],
            [
             0.6,
             "#e6f5d0"
            ],
            [
             0.7,
             "#b8e186"
            ],
            [
             0.8,
             "#7fbc41"
            ],
            [
             0.9,
             "#4d9221"
            ],
            [
             1,
             "#276419"
            ]
           ],
           "sequential": [
            [
             0,
             "#0d0887"
            ],
            [
             0.1111111111111111,
             "#46039f"
            ],
            [
             0.2222222222222222,
             "#7201a8"
            ],
            [
             0.3333333333333333,
             "#9c179e"
            ],
            [
             0.4444444444444444,
             "#bd3786"
            ],
            [
             0.5555555555555556,
             "#d8576b"
            ],
            [
             0.6666666666666666,
             "#ed7953"
            ],
            [
             0.7777777777777778,
             "#fb9f3a"
            ],
            [
             0.8888888888888888,
             "#fdca26"
            ],
            [
             1,
             "#f0f921"
            ]
           ],
           "sequentialminus": [
            [
             0,
             "#0d0887"
            ],
            [
             0.1111111111111111,
             "#46039f"
            ],
            [
             0.2222222222222222,
             "#7201a8"
            ],
            [
             0.3333333333333333,
             "#9c179e"
            ],
            [
             0.4444444444444444,
             "#bd3786"
            ],
            [
             0.5555555555555556,
             "#d8576b"
            ],
            [
             0.6666666666666666,
             "#ed7953"
            ],
            [
             0.7777777777777778,
             "#fb9f3a"
            ],
            [
             0.8888888888888888,
             "#fdca26"
            ],
            [
             1,
             "#f0f921"
            ]
           ]
          },
          "colorway": [
           "#636efa",
           "#EF553B",
           "#00cc96",
           "#ab63fa",
           "#FFA15A",
           "#19d3f3",
           "#FF6692",
           "#B6E880",
           "#FF97FF",
           "#FECB52"
          ],
          "font": {
           "color": "#2a3f5f"
          },
          "geo": {
           "bgcolor": "white",
           "lakecolor": "white",
           "landcolor": "#E5ECF6",
           "showlakes": true,
           "showland": true,
           "subunitcolor": "white"
          },
          "hoverlabel": {
           "align": "left"
          },
          "hovermode": "closest",
          "mapbox": {
           "style": "light"
          },
          "paper_bgcolor": "white",
          "plot_bgcolor": "#E5ECF6",
          "polar": {
           "angularaxis": {
            "gridcolor": "white",
            "linecolor": "white",
            "ticks": ""
           },
           "bgcolor": "#E5ECF6",
           "radialaxis": {
            "gridcolor": "white",
            "linecolor": "white",
            "ticks": ""
           }
          },
          "scene": {
           "xaxis": {
            "backgroundcolor": "#E5ECF6",
            "gridcolor": "white",
            "gridwidth": 2,
            "linecolor": "white",
            "showbackground": true,
            "ticks": "",
            "zerolinecolor": "white"
           },
           "yaxis": {
            "backgroundcolor": "#E5ECF6",
            "gridcolor": "white",
            "gridwidth": 2,
            "linecolor": "white",
            "showbackground": true,
            "ticks": "",
            "zerolinecolor": "white"
           },
           "zaxis": {
            "backgroundcolor": "#E5ECF6",
            "gridcolor": "white",
            "gridwidth": 2,
            "linecolor": "white",
            "showbackground": true,
            "ticks": "",
            "zerolinecolor": "white"
           }
          },
          "shapedefaults": {
           "line": {
            "color": "#2a3f5f"
           }
          },
          "ternary": {
           "aaxis": {
            "gridcolor": "white",
            "linecolor": "white",
            "ticks": ""
           },
           "baxis": {
            "gridcolor": "white",
            "linecolor": "white",
            "ticks": ""
           },
           "bgcolor": "#E5ECF6",
           "caxis": {
            "gridcolor": "white",
            "linecolor": "white",
            "ticks": ""
           }
          },
          "title": {
           "x": 0.05
          },
          "xaxis": {
           "automargin": true,
           "gridcolor": "white",
           "linecolor": "white",
           "ticks": "",
           "title": {
            "standoff": 15
           },
           "zerolinecolor": "white",
           "zerolinewidth": 2
          },
          "yaxis": {
           "automargin": true,
           "gridcolor": "white",
           "linecolor": "white",
           "ticks": "",
           "title": {
            "standoff": 15
           },
           "zerolinecolor": "white",
           "zerolinewidth": 2
          }
         }
        },
        "title": {
         "text": "Visualizing feature labels in 2D Using T-SNE (perplexity=50)"
        },
        "xaxis": {
         "ticklen": 5,
         "title": {
          "text": "TC1"
         },
         "zeroline": false
        },
        "yaxis": {
         "ticklen": 5,
         "title": {
          "text": "TC2"
         },
         "zeroline": false
        }
       }
      }
     },
     "metadata": {},
     "output_type": "display_data"
    }
   ],
   "source": [
    "# Initalise Clusters \n",
    "cluster0 = plotX[plotX[\"label\"] == 0]\n",
    "cluster1 = plotX[plotX[\"label\"] == 1]\n",
    "cluster2 = plotX[plotX[\"label\"] == 2]\n",
    "cluster3 = plotX[plotX[\"label\"] == 3]\n",
    "cluster4 = plotX[plotX[\"label\"] == 4]\n",
    "cluster5 = plotX[plotX[\"label\"] == 5]\n",
    "cluster6 = plotX[plotX[\"label\"] == 6]\n",
    "cluster7 = plotX[plotX[\"label\"] == 7]\n",
    "cluster8 = plotX[plotX[\"label\"] == 8]\n",
    "cluster9 = plotX[plotX[\"label\"] == 9]\n",
    "\n",
    "# trace1 is for 'Cluster 0'\n",
    "trace1 = go.Scatter(\n",
    "                    x = cluster0[\"TC1_2d\"],\n",
    "                    y = cluster0[\"TC2_2d\"],\n",
    "                    mode = \"markers\",\n",
    "                    name = \"Airplane\",\n",
    "                    marker = dict(color = 'rgba(31, 119, 180, 0.8)'),\n",
    "                    text = None)\n",
    "\n",
    "# trace2 is for 'Cluster 1'\n",
    "trace2 = go.Scatter(\n",
    "                    x = cluster1[\"TC1_2d\"],\n",
    "                    y = cluster1[\"TC2_2d\"],\n",
    "                    mode = \"markers\",\n",
    "                    name = \"Automobile\",\n",
    "                    marker = dict(color = 'rgba(255, 127, 14, 0.8)'),\n",
    "                    text = None)\n",
    "\n",
    "# trace3 is for 'Cluster 2'\n",
    "trace3 = go.Scatter(\n",
    "                    x = cluster2[\"TC1_2d\"],\n",
    "                    y = cluster2[\"TC2_2d\"],\n",
    "                    mode = \"markers\",\n",
    "                    name = \"Bird\",\n",
    "                    marker = dict(color = 'rgba(44, 160, 44, 0.8)'),\n",
    "                    text = None)\n",
    "\n",
    "# trace4 is for 'Cluster 3'\n",
    "trace4 = go.Scatter(\n",
    "                    x = cluster3[\"TC1_2d\"],\n",
    "                    y = cluster3[\"TC2_2d\"],\n",
    "                    mode = \"markers\",\n",
    "                    name = \"Cat\",\n",
    "                    marker = dict(color = 'rgba(214, 39, 40, 0.8)'),\n",
    "                    text = None)\n",
    "\n",
    "# trace5 is for 'Cluster 4'\n",
    "trace5 = go.Scatter(\n",
    "                    x = cluster4[\"TC1_2d\"],\n",
    "                    y = cluster4[\"TC2_2d\"],\n",
    "                    mode = \"markers\",\n",
    "                    name = \"Deer\",\n",
    "                    marker = dict(color = 'rgba(148, 103, 189, 0.8)'),\n",
    "                    text = None)\n",
    "\n",
    "# trace6 is for 'Cluster 5'\n",
    "trace6 = go.Scatter(\n",
    "                    x = cluster5[\"TC1_2d\"],\n",
    "                    y = cluster5[\"TC2_2d\"],\n",
    "                    mode = \"markers\",\n",
    "                    name = \"Dog\",\n",
    "                    marker = dict(color = 'rgba(140, 86, 75, 0.8)'),\n",
    "                    text = None)\n",
    "\n",
    "# trace7 is for 'Cluster 6'\n",
    "trace7 = go.Scatter(\n",
    "                    x = cluster6[\"TC1_2d\"],\n",
    "                    y = cluster6[\"TC2_2d\"],\n",
    "                    mode = \"markers\",\n",
    "                    name = \"Frog\",\n",
    "                    marker = dict(color = 'rgba(227, 119, 194, 0.8)'),\n",
    "                    text = None)\n",
    "\n",
    "# trace8 is for 'Cluster 7'\n",
    "trace8 = go.Scatter(\n",
    "                    x = cluster7[\"TC1_2d\"],\n",
    "                    y = cluster7[\"TC2_2d\"],\n",
    "                    mode = \"markers\",\n",
    "                    name = \"Horse\",\n",
    "                    marker = dict(color = 'rgba(127, 127, 127, 0.8)'),\n",
    "                    text = None)\n",
    "\n",
    "# trace9 is for 'Cluster 8'\n",
    "trace9 = go.Scatter(\n",
    "                    x = cluster8[\"TC1_2d\"],\n",
    "                    y = cluster8[\"TC2_2d\"],\n",
    "                    mode = \"markers\",\n",
    "                    name = \"Ship\",\n",
    "                    marker = dict(color = 'rgba(188, 189, 34, 0.8)'),\n",
    "                    text = None)\n",
    "\n",
    "# trace10 is for 'Cluster 9'\n",
    "trace10 = go.Scatter(\n",
    "                    x = cluster9[\"TC1_2d\"],\n",
    "                    y = cluster9[\"TC2_2d\"],\n",
    "                    mode = \"markers\",\n",
    "                    name = \"Truck\",\n",
    "                    marker = dict(color = 'rgba(23, 190, 207, 0.8)'),\n",
    "                    text = None)\n",
    "\n",
    "\n",
    "data = [trace1, trace2, trace3,\n",
    "        trace4, trace5, trace6,\n",
    "        trace7, trace8, trace9,\n",
    "        trace10]\n",
    "\n",
    "title = \"Visualizing feature labels in 2D Using T-SNE (perplexity=\" + str(perplexity) + \")\"\n",
    "\n",
    "layout = dict(title = title,\n",
    "              xaxis= dict(title= 'TC1',ticklen= 5,zeroline= False),\n",
    "              yaxis= dict(title= 'TC2',ticklen= 5,zeroline= False)\n",
    "             )\n",
    "\n",
    "fig = dict(data = data, layout = layout)\n",
    "\n",
    "iplot(fig)\n",
    "\n"
   ]
  },
  {
   "cell_type": "markdown",
   "metadata": {},
   "source": [
    "These plots help visualize and assess how well K-Means represents different labels within the feature space. As observed, the labels plot highlights a densely packed region at the center of the graph, suggesting that many labels with associated images share similar representational features. This congested area includes labels such as Truck, Cat, Bird, Frog, Dog, Deer, and Automobile.\n",
    "\n",
    "This clustering behavior could present challenges, as seen in the K-Means visualization, where multiple overlapping clusters represent the heavily labeled region. Notably, Cluster 6 (pink) appears to dominate this area as a single cluster. This suggests that not all clusters consistently correspond to a single label, a key consideration in the clustering approach used in TypiClust.\n",
    "\n",
    "To explore ways of better representing the true labeled feature space, the code was adapted to generate the following plots:"
   ]
  },
  {
   "cell_type": "markdown",
   "metadata": {},
   "source": [
    "### K-Means++ \n",
    "\n",
    "K-Means++ was considered for clustering due to the high-dimensional nature of the feature representations. As noted in this [Towards Data Science article](https://towardsdatascience.com/k-means-algorithm-for-high-dimensional-data-clustering-714c6980daa9/) article, K-Means++ selects initial centroids probabilistically, reducing the risk of poor convergence caused by random initialization while also aiming to enhance cluster separation.\n",
    "\n",
    "![k-means++](kmeans++betterqualitynewplot.png \"K-means++ n=10\")\n",
    "\n",
    "When visualising our K-Means++ clustering with 10 clusters, we observe that it does not accurately capture the dense, labeled region of the training data. Instead, ‘Cluster 0’ appears to represent this entire congested area as a single entity. In contrast, K-Means more effectively represented this region by forming multiple overlapping clusters, providing a more granular view of the data distribution. Therefore, K-Means appears to be the more suitable clustering algorithm for this task.\n"
   ]
  },
  {
   "cell_type": "markdown",
   "metadata": {},
   "source": [
    "# K-means clustering when budget = 20\n",
    "Sometimes the budget/sample-size will not equate to the number of classes in the dataset. \n",
    "\n",
    "Here is the clustered feature space when n=20: \n",
    "\n",
    "![k-means n=20](k-means20.png \"K-means n=20\")\n",
    "\n",
    "There does not seem to be a clear distinction between the different clusters and it's true labels. However, some areas of the graph such as the cluster 6 and 11 seem to both represent Automobiles. While others remain undiscernible or be mixed with other labelled.\n",
    "\n",
    "\n"
   ]
  },
  {
   "cell_type": "markdown",
   "metadata": {},
   "source": [
    "# Considerations and Final Observations \n",
    "By visualising and analysing clustering in TypiClust, we observe that K-means clustering appears to be the most representative of the labeled features. A comparative analysis between labeled features and K-means clusters reveals that larger clusters typically contain a balanced mix of different labels. This suggests that clusters containing labeled samples might also include examples of other labels, potentially offering insights for more effective sampling strategies.\n",
    "\n",
    "Furthermore, larger clusters tend to be spatially closer and positioned near the center of the 2D space. However, large clusters for sampling may not always promote diversity. Notably, when the number of clusters is increased to 20, smaller clusters tend to form at the periphery. Interestingly, these smaller clusters often contain only a single labeled class despite their reduced size.\n",
    "\n",
    "It would be interesting to explore and focus on sampling from these smaller, more distant clusters and considering the selection of clusters that already contain labeled data."
   ]
  }
 ],
 "metadata": {
  "kernelspec": {
   "display_name": ".venv",
   "language": "python",
   "name": "python3"
  },
  "language_info": {
   "codemirror_mode": {
    "name": "ipython",
    "version": 3
   },
   "file_extension": ".py",
   "mimetype": "text/x-python",
   "name": "python",
   "nbconvert_exporter": "python",
   "pygments_lexer": "ipython3",
   "version": "3.12.3"
  }
 },
 "nbformat": 4,
 "nbformat_minor": 2
}
